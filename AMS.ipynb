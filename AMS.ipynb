{
 "cells": [
  {
   "cell_type": "markdown",
   "metadata": {
    "collapsed": true
   },
   "source": [
    "# AMS (The statistical model)"
   ]
  },
  {
   "cell_type": "markdown",
   "metadata": {},
   "source": [
    "## Introduction\n",
    "**Goal: discover Higgs boson**\n",
    "* How to discover a new particle?\n",
    "  * find an excess of events (i.e. more events than predicted by the Standard Model without the new particle) that can be explained by e.g. Higgs production and decay\n",
    "  * define phase-space region (\"search region\" or \"signal region\") enriched in signal events and with as few background events as possible\n",
    "    * _signal_ = collision events in which the new particle is produced (here: $pp\\to h^0 + X$, $h^0\\to\\tau^+\\tau^-$)\n",
    "    * _background_ = all other events (here e.g. $pp\\to Z^0 + X$, $Z^0\\to\\tau^+\\tau^-$)\n",
    "    * definition done based on expected event yields from simulation\n",
    "  * then count events in actual data and compare to expected event yields \n",
    "    * note: we will not define the phase-space region by hand but have a MVA algorithm do this\n",
    "  * if number of real events in the selected region is significantly (by convention: $5\\sigma$) higher than the number of background events predicted by the model, the discovery of a new particle can be declared\n",
    "* How to quantify an excess as significant? Is it a discovery or just a fluke?\n",
    "  * use a test based on the profile-likelihood ratio to reject the background-only hypothesis\n",
    "  * for details, see [this article][1] or the [manual][2] of the Higgs boson machine learning challenge\n",
    "\n",
    "[1]: https://arxiv.org/abs/1007.1727\n",
    "[2]: http://opendata.cern.ch/record/329/"
   ]
  },
  {
   "cell_type": "markdown",
   "metadata": {},
   "source": [
    "## Derivation\n",
    "Observed number of events follows a Poisson distribution:\n",
    "$$P(n|\\mu_s,\\mu_b) = \\frac{(\\mu_s + \\mu_b)^n}{n!}\\exp(-(\\mu_s + \\mu_b))$$\n",
    "* $\\mu_s$: number of signal events predicted by simulation\n",
    "* $\\mu_b$: number of background events predicted by simulation"
   ]
  },
  {
   "cell_type": "markdown",
   "metadata": {},
   "source": [
    "**To claim a signal discovery, we need to reject the background-only hypothesis**, i.e. the hypothesis $H_0$ of $\\mu_s = 0$.\n",
    "* We thus need to show that the probability (the _p-value_) that the observed number of events is consistent with only background events and no signal production is below a predefined threshold. "
   ]
  },
  {
   "cell_type": "markdown",
   "metadata": {},
   "source": [
    "To do so, we will use the likelihood ratio\n",
    "$$\\lambda = \\frac{P(H_0)}{P(H_1)} = \\frac{P(n|0,\\mu_b)}{P(n|\\hat\\mu_s,\\mu_b)} = \\left( \\frac{\\mu_b}{\\hat\\mu_s+\\mu_b} \\right)^n \\exp(\\hat\\mu_s),$$\n",
    "where $\\hat \\mu_s = n - \\mu_b$ is the maximum-likelihood estimator of $\\mu_s$ given that we observe $n$ events in our selection."
   ]
  },
  {
   "cell_type": "markdown",
   "metadata": {},
   "source": [
    "Using the likelihood ratio $\\lambda$ we define a test statistic\n",
    "$$q_0 = \\begin{cases}\n",
    "    -2\\ln\\lambda & \\text{if } n>\\mu_b, \\\\\n",
    "    0 & \\text{otherwise}.\n",
    "\\end{cases}$$\n",
    "The likelihood-ratio test provides the highest statistical power according to the Neyman–Pearson lemma, i.e. the highest probability that it rejects the null hypothesis ($H_0$) when a specific alternative hypothesis ($H_1$) is true.\n",
    "\n",
    "[1]: https://en.wikipedia.org/wiki/Likelihood-ratio_test\n",
    "[2]: https://en.wikipedia.org/wiki/Power_(statistics)"
   ]
  },
  {
   "cell_type": "markdown",
   "metadata": {},
   "source": [
    "Often, it is difficult or impossible to derive the distribution of $q_0$, that is needed to compute the $p$-value.\n",
    "Fortunately, $q_0$ can be approximated by a simple analytic expressions according to Wilks' theorem (for large enough values).\n",
    "In particular, the $p$-value of the background-only hypothesis is given by\n",
    "$$p=1-\\Phi(\\sqrt{q_0})$$\n",
    "with $\\Phi$ being the cumulative normal distribution."
   ]
  },
  {
   "cell_type": "markdown",
   "metadata": {
    "collapsed": true
   },
   "source": [
    "The $p$-value can be converted to a significance:\n",
    "$$Z = \\Phi^{-1}(1-p)$$\n",
    "* $p = 50\\%$ (pure chance) corresponds to $Z=0$, 95% to $Z\\simeq1.64$\n",
    "* Note: in particle physics, we use a significance of $5\\sigma$ as threshold for a discovery ($p < 2.9\\cdot10^{-7}$)."
   ]
  },
  {
   "cell_type": "markdown",
   "metadata": {},
   "source": [
    "We obtain\n",
    "$$Z = \\sqrt{q_0} = \\begin{cases}\n",
    "    \\sqrt{ 2 \\left[ n \\ln \\left(\\frac n {\\mu_b} \\right) - n + \\mu_b \\right] } & \\text{if } n>\\mu_b, \\\\\n",
    "    0 & \\text{otherwise}.\n",
    "\\end{cases}\n",
    "$$"
   ]
  },
  {
   "cell_type": "markdown",
   "metadata": {},
   "source": [
    "Assuming our simulation is correct, we expect to observe $\\mu_b = b$ and $n = s+b$ events and obtain the _approximate median significance_\n",
    "$$\\text{AMS} = \\sqrt{2 \\left[ (s+b) \\ln\\left(1+\\frac sb\\right) - s\\right] },$$\n",
    "which we will use to quantify the effectiveness of our MVA algorithms."
   ]
  },
  {
   "cell_type": "markdown",
   "metadata": {},
   "source": [
    "## Intuitive (simplifying) interpretation\n",
    "For $b\\gg s$, the following approximation holds:\n",
    "$$\\text{AMS} \\approx \\frac{s}{\\sqrt b}.$$"
   ]
  },
  {
   "cell_type": "markdown",
   "metadata": {},
   "source": [
    "Interpretation:\n",
    "* The typical size of a background fluctuation (std. dev. of the Poisson distribution) is $\\sqrt{b}$, i.e. AMS roughly tells us by how many standard deviations (of the background) our signal is expected to \"stick out\" from the background.\n",
    "* $b\\gg s$ is a strong assumption\n",
    "    * may be the case in measurements but typically not in searches in extreme phase-space regions\n",
    "    * will use a regularization term here, i.e. $b\\to b+b_\\text{reg} \\overset{\\text{here}}{=} b+10$"
   ]
  },
  {
   "cell_type": "markdown",
   "metadata": {},
   "source": [
    "**Illustrate effect: AMS vs simple approx**"
   ]
  },
  {
   "cell_type": "code",
   "execution_count": 3,
   "metadata": {},
   "outputs": [],
   "source": [
    "import numpy as np\n",
    "# compute approximate median significance (AMS)\n",
    "def ams(s,b):\n",
    "    # The number 10, added to the background yield, is a regularization term to decrease the variance of the AMS.\n",
    "    return np.sqrt(2*((s+b+10)*np.log(1+s/(b+10))-s))"
   ]
  },
  {
   "cell_type": "code",
   "execution_count": 25,
   "metadata": {},
   "outputs": [
    {
     "data": {
      "image/png": "[encoded data removed]",
      "text/plain": [
       "<Figure size 432x288 with 1 Axes>"
      ]
     },
     "metadata": {
      "needs_background": "light"
     },
     "output_type": "display_data"
    }
   ],
   "source": [
    "import matplotlib.pyplot as plt\n",
    "%matplotlib inline\n",
    "\n",
    "sig=300\n",
    "bg=np.arange(300,10000,50)\n",
    "\n",
    "amsv1=ams(sig,bg)\n",
    "amsv2=sig/np.sqrt(bg)\n",
    "#print (amsv1, amsv2)\n",
    "plt.plot(bg, amsv1,label='ams')\n",
    "plt.plot(bg, amsv2,label='simple')\n",
    "plt.xlabel('background') # x-axis\n",
    "plt.ylabel('AMS')# y-axis\n",
    "plt.grid(True)\n",
    "plt.legend();"
   ]
  },
  {
   "cell_type": "code",
   "execution_count": null,
   "metadata": {},
   "outputs": [],
   "source": []
  }
 ],
 "metadata": {
  "kernelspec": {
   "display_name": "Python 3",
   "language": "python",
   "name": "python3"
  },
  "language_info": {
   "codemirror_mode": {
    "name": "ipython",
    "version": 3
   },
   "file_extension": ".py",
   "mimetype": "text/x-python",
   "name": "python",
   "nbconvert_exporter": "python",
   "pygments_lexer": "ipython3",
   "version": "3.7.3"
  }
 },
 "nbformat": 4,
 "nbformat_minor": 2
}
