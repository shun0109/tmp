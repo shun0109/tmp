{
 "cells": [
  {
   "cell_type": "markdown",
   "metadata": {},
   "source": [
    "# TensorFlow\n",
    "\n",
    "We don't have to code up back propagation for every possible function or neural network architecture that we want to fit. There are lots of libraries targeted towards machine learning that make this task easy and computationally efficient. One of the most popular libraries is [TensorFlow](https://www.tensorflow.org/). It was developed by Google Brain and is now open source under the Apache License 2.0.\n",
    "\n",
    "(Other popular choices in 2022 are [PyTorch](https://pytorch.org/) and [JAX](https://jax.readthedocs.io/))\n",
    "\n",
    "The workflow consists of building a computational graph where \"operations\" act on \"tensors\" that can be automatically differentiated. Starting from tensorflow version 2 the operations are by default executed \"eagerly\" such that one can work with tensors in a similar way as with numpy arrays and typically does not have to worry about building the graph.\n",
    "\n",
    "The TensorFlow website contains a much more [detailed introduction](https://www.tensorflow.org/guide/low_level_intro) if you want to learn more."
   ]
  },
  {
   "cell_type": "markdown",
   "metadata": {},
   "source": [
    "## Numpy-like syntax"
   ]
  },
  {
   "cell_type": "code",
   "execution_count": 1,
   "metadata": {},
   "outputs": [],
   "source": [
    "import tensorflow as tf\n",
    "import numpy as np\n",
    "import matplotlib.pyplot as plt"
   ]
  },
  {
   "cell_type": "markdown",
   "metadata": {},
   "source": [
    "Tensors can be created via `tf.constant` from python lists or numpy arrays. Similar to numpy arrays, they have a `shape` and a `dtype`."
   ]
  },
  {
   "cell_type": "code",
   "execution_count": 2,
   "metadata": {},
   "outputs": [
    {
     "data": {
      "text/plain": [
       "<tf.Tensor: shape=(3,), dtype=float32, numpy=array([1., 2., 3.], dtype=float32)>"
      ]
     },
     "execution_count": 2,
     "metadata": {},
     "output_type": "execute_result"
    }
   ],
   "source": [
    "tf.constant([1, 2, 3], dtype=tf.float32)"
   ]
  },
  {
   "cell_type": "code",
   "execution_count": 3,
   "metadata": {},
   "outputs": [
    {
     "data": {
      "text/plain": [
       "<tf.Tensor: shape=(3,), dtype=float32, numpy=array([1., 2., 3.], dtype=float32)>"
      ]
     },
     "execution_count": 3,
     "metadata": {},
     "output_type": "execute_result"
    }
   ],
   "source": [
    "tf.constant(np.array([1, 2, 3]), dtype=tf.float32)"
   ]
  },
  {
   "cell_type": "code",
   "execution_count": 4,
   "metadata": {},
   "outputs": [
    {
     "data": {
      "text/plain": [
       "<tf.Tensor: shape=(3, 2), dtype=int32, numpy=\n",
       "array([[1, 2],\n",
       "       [3, 4],\n",
       "       [5, 6]], dtype=int32)>"
      ]
     },
     "execution_count": 4,
     "metadata": {},
     "output_type": "execute_result"
    }
   ],
   "source": [
    "tf.constant([[1, 2], [3, 4], [5, 6]])"
   ]
  },
  {
   "cell_type": "code",
   "execution_count": 5,
   "metadata": {},
   "outputs": [
    {
     "data": {
      "text/plain": [
       "<tf.Tensor: shape=(2, 3, 4), dtype=int32, numpy=\n",
       "array([[[ 1,  2,  3,  4],\n",
       "        [ 5,  6,  7,  8],\n",
       "        [ 9, 10, 11, 12]],\n",
       "\n",
       "       [[13, 14, 15, 16],\n",
       "        [17, 18, 19, 20],\n",
       "        [21, 22, 23, 24]]], dtype=int32)>"
      ]
     },
     "execution_count": 5,
     "metadata": {},
     "output_type": "execute_result"
    }
   ],
   "source": [
    "tf.constant([[[1, 2, 3, 4],\n",
    "              [5, 6, 7, 8],\n",
    "              [9, 10, 11, 12]],\n",
    "             [[13, 14, 15, 16],\n",
    "              [17, 18, 19, 20],\n",
    "              [21, 22, 23, 24]]])"
   ]
  },
  {
   "cell_type": "markdown",
   "metadata": {},
   "source": [
    "There are also convenience functions, e.g. to create equidistant or random values and all sorts of mathematical functions that represent operations on tensors."
   ]
  },
  {
   "cell_type": "code",
   "execution_count": 6,
   "metadata": {},
   "outputs": [
    {
     "data": {
      "text/plain": [
       "<tf.Tensor: shape=(10, 2), dtype=float32, numpy=\n",
       "array([[0.48970187, 0.8690913 ],\n",
       "       [0.7970767 , 0.14075994],\n",
       "       [0.76985276, 0.12137532],\n",
       "       [0.8937073 , 0.04096115],\n",
       "       [0.89146745, 0.9629694 ],\n",
       "       [0.36995733, 0.11012745],\n",
       "       [0.7140106 , 0.2506659 ],\n",
       "       [0.70615005, 0.65231967],\n",
       "       [0.39964688, 0.16505098],\n",
       "       [0.18281496, 0.23929548]], dtype=float32)>"
      ]
     },
     "execution_count": 6,
     "metadata": {},
     "output_type": "execute_result"
    }
   ],
   "source": [
    "tf.random.uniform((10, 2))"
   ]
  },
  {
   "cell_type": "code",
   "execution_count": 7,
   "metadata": {},
   "outputs": [
    {
     "data": {
      "text/plain": [
       "<tf.Tensor: shape=(10,), dtype=float32, numpy=\n",
       "array([0.        , 0.69813174, 1.3962635 , 2.0943952 , 2.792527  ,\n",
       "       3.4906588 , 4.1887903 , 4.8869224 , 5.585054  , 6.2831855 ],\n",
       "      dtype=float32)>"
      ]
     },
     "execution_count": 7,
     "metadata": {},
     "output_type": "execute_result"
    }
   ],
   "source": [
    "t = tf.linspace(0., 2.*np.pi, 10)\n",
    "t"
   ]
  },
  {
   "cell_type": "code",
   "execution_count": 8,
   "metadata": {},
   "outputs": [
    {
     "data": {
      "text/plain": [
       "<tf.Tensor: shape=(10,), dtype=float32, numpy=\n",
       "array([ 0.       ,  1.3962635,  2.792527 ,  4.1887903,  5.585054 ,\n",
       "        6.9813175,  8.377581 ,  9.773845 , 11.170108 , 12.566371 ],\n",
       "      dtype=float32)>"
      ]
     },
     "execution_count": 8,
     "metadata": {},
     "output_type": "execute_result"
    }
   ],
   "source": [
    "2 * t"
   ]
  },
  {
   "cell_type": "code",
   "execution_count": 9,
   "metadata": {},
   "outputs": [
    {
     "data": {
      "text/plain": [
       "<tf.Tensor: shape=(10,), dtype=float32, numpy=\n",
       "array([ 0.0000000e+00,  6.4278764e-01,  9.8480779e-01,  8.6602539e-01,\n",
       "        3.4202000e-01, -3.4202039e-01, -8.6602545e-01, -9.8480767e-01,\n",
       "       -6.4278734e-01,  1.7484555e-07], dtype=float32)>"
      ]
     },
     "execution_count": 9,
     "metadata": {},
     "output_type": "execute_result"
    }
   ],
   "source": [
    "tf.sin(t)"
   ]
  },
  {
   "cell_type": "markdown",
   "metadata": {},
   "source": [
    "Tensors can be plotted like numpy arrays"
   ]
  },
  {
   "cell_type": "code",
   "execution_count": 10,
   "metadata": {},
   "outputs": [
    {
     "data": {
      "text/plain": [
       "[<matplotlib.lines.Line2D at 0x11bef8e50>]"
      ]
     },
     "execution_count": 10,
     "metadata": {},
     "output_type": "execute_result"
    },
    {
     "data": {
      "image/png": "[encoded data removed]",
      "text/plain": [
       "<Figure size 432x288 with 1 Axes>"
      ]
     },
     "metadata": {
      "needs_background": "light"
     },
     "output_type": "display_data"
    }
   ],
   "source": [
    "plt.plot(t, tf.sin(t))"
   ]
  },
  {
   "cell_type": "markdown",
   "metadata": {},
   "source": [
    "Or explicitely converted via `.numpy()`"
   ]
  },
  {
   "cell_type": "code",
   "execution_count": 11,
   "metadata": {},
   "outputs": [
    {
     "data": {
      "text/plain": [
       "array([0.        , 0.69813174, 1.3962635 , 2.0943952 , 2.792527  ,\n",
       "       3.4906588 , 4.1887903 , 4.8869224 , 5.585054  , 6.2831855 ],\n",
       "      dtype=float32)"
      ]
     },
     "execution_count": 11,
     "metadata": {},
     "output_type": "execute_result"
    }
   ],
   "source": [
    "t.numpy()"
   ]
  },
  {
   "cell_type": "code",
   "execution_count": 12,
   "metadata": {},
   "outputs": [
    {
     "data": {
      "text/plain": [
       "array([ 0.0000000e+00,  6.4278764e-01,  9.8480779e-01,  8.6602539e-01,\n",
       "        3.4202000e-01, -3.4202039e-01, -8.6602545e-01, -9.8480767e-01,\n",
       "       -6.4278734e-01,  1.7484555e-07], dtype=float32)"
      ]
     },
     "execution_count": 12,
     "metadata": {},
     "output_type": "execute_result"
    }
   ],
   "source": [
    "tf.sin(t).numpy()"
   ]
  },
  {
   "cell_type": "markdown",
   "metadata": {},
   "source": [
    "## Auto differentiation\n",
    "The real power comes from tracing operations that allows automatic backpropagation to calculate gradients. This can be done using `tf.GradientTape`. By default the gradients w.r.t. tensors (constants) are not recorded, but only for `tf.Variable`. A `tf.Variable` represents a mutable state - this makes sense, since in many cases we want to modify the values on which we calculate gradients (e.g. training a neural network)."
   ]
  },
  {
   "cell_type": "code",
   "execution_count": 13,
   "metadata": {},
   "outputs": [
    {
     "data": {
      "text/plain": [
       "<tf.Variable 'Variable:0' shape=(100,) dtype=float32, numpy=\n",
       "array([0.        , 0.06346652, 0.12693304, 0.19039956, 0.25386608,\n",
       "       0.3173326 , 0.3807991 , 0.44426563, 0.50773215, 0.5711987 ,\n",
       "       0.6346652 , 0.6981317 , 0.7615982 , 0.8250648 , 0.88853127,\n",
       "       0.95199776, 1.0154643 , 1.0789309 , 1.1423974 , 1.2058638 ,\n",
       "       1.2693304 , 1.3327969 , 1.3962634 , 1.4597299 , 1.5231965 ,\n",
       "       1.586663  , 1.6501296 , 1.713596  , 1.7770625 , 1.8405291 ,\n",
       "       1.9039955 , 1.9674621 , 2.0309286 , 2.0943952 , 2.1578617 ,\n",
       "       2.2213283 , 2.2847948 , 2.348261  , 2.4117277 , 2.4751942 ,\n",
       "       2.5386608 , 2.6021273 , 2.6655939 , 2.7290604 , 2.7925267 ,\n",
       "       2.8559933 , 2.9194598 , 2.9829264 , 3.046393  , 3.1098595 ,\n",
       "       3.173326  , 3.2367926 , 3.300259  , 3.3637254 , 3.427192  ,\n",
       "       3.4906585 , 3.554125  , 3.6175916 , 3.6810582 , 3.7445247 ,\n",
       "       3.807991  , 3.8714576 , 3.9349241 , 3.9983907 , 4.061857  ,\n",
       "       4.125324  , 4.1887903 , 4.252257  , 4.3157234 , 4.37919   ,\n",
       "       4.4426565 , 4.506123  , 4.5695896 , 4.6330557 , 4.696522  ,\n",
       "       4.759989  , 4.8234553 , 4.886922  , 4.9503884 , 5.013855  ,\n",
       "       5.0773215 , 5.140788  , 5.2042546 , 5.267721  , 5.3311877 ,\n",
       "       5.3946543 , 5.458121  , 5.5215874 , 5.5850534 , 5.64852   ,\n",
       "       5.7119865 , 5.775453  , 5.8389196 , 5.902386  , 5.9658527 ,\n",
       "       6.0293193 , 6.092786  , 6.1562524 , 6.219719  , 6.2831855 ],\n",
       "      dtype=float32)>"
      ]
     },
     "execution_count": 13,
     "metadata": {},
     "output_type": "execute_result"
    }
   ],
   "source": [
    "t = tf.Variable(tf.linspace(0., 2.*np.pi, 100))\n",
    "t"
   ]
  },
  {
   "cell_type": "markdown",
   "metadata": {},
   "source": [
    "We can now calculate the derivative of the `sin` function w.r.t. `t` using `tf.GradientTape` in a context manager"
   ]
  },
  {
   "cell_type": "code",
   "execution_count": 14,
   "metadata": {},
   "outputs": [],
   "source": [
    "with tf.GradientTape() as tape:\n",
    "    f = tf.sin(t)\n",
    "df = tape.gradient(f, t)"
   ]
  },
  {
   "cell_type": "code",
   "execution_count": 15,
   "metadata": {},
   "outputs": [
    {
     "data": {
      "text/plain": [
       "<matplotlib.legend.Legend at 0x11bfb6370>"
      ]
     },
     "execution_count": 15,
     "metadata": {},
     "output_type": "execute_result"
    },
    {
     "data": {
      "image/png": "[encoded data removed]",
      "text/plain": [
       "<Figure size 432x288 with 1 Axes>"
      ]
     },
     "metadata": {
      "needs_background": "light"
     },
     "output_type": "display_data"
    }
   ],
   "source": [
    "# Note: for plotting tf.Variable one always has to explicitely convert via .numpy()\n",
    "# (not nescessary for Tensors/tf.constant)\n",
    "plt.plot(t.numpy(), f, label=\"sin(t)\")\n",
    "plt.plot(t.numpy(), df, label=\"sin'(t)\")\n",
    "plt.legend()"
   ]
  },
  {
   "cell_type": "markdown",
   "metadata": {},
   "source": [
    "To calculate gradients w.r.t. Tensors (`tf.constant`) instead of `tf.Variable`, use `tape.watch`:"
   ]
  },
  {
   "cell_type": "code",
   "execution_count": 16,
   "metadata": {},
   "outputs": [
    {
     "data": {
      "text/plain": [
       "<matplotlib.legend.Legend at 0x11c01d250>"
      ]
     },
     "execution_count": 16,
     "metadata": {},
     "output_type": "execute_result"
    },
    {
     "data": {
      "image/png": "[encoded data removed]",
      "text/plain": [
       "<Figure size 432x288 with 1 Axes>"
      ]
     },
     "metadata": {
      "needs_background": "light"
     },
     "output_type": "display_data"
    }
   ],
   "source": [
    "t_const = tf.linspace(0., 2.*np.pi, 100)\n",
    "with tf.GradientTape() as tape:\n",
    "    tape.watch(t_const)\n",
    "    f = tf.sin(t_const)\n",
    "plt.plot(t_const, f, label=\"sin(t)\")\n",
    "plt.plot(t_const, tape.gradient(f, t_const), label=\"sin'(t)\")\n",
    "plt.legend()"
   ]
  },
  {
   "cell_type": "markdown",
   "metadata": {},
   "source": [
    "The computation of the gradient can also be recorded and we can calculate the gradient of the gradient to get the second derivative."
   ]
  },
  {
   "cell_type": "code",
   "execution_count": 17,
   "metadata": {},
   "outputs": [
    {
     "ename": "LookupError",
     "evalue": "gradient registry has no entry for: MLCSinGrad",
     "output_type": "error",
     "traceback": [
      "\u001b[0;31m---------------------------------------------------------------------------\u001b[0m",
      "\u001b[0;31mLookupError\u001b[0m                               Traceback (most recent call last)",
      "\u001b[0;32m<ipython-input-17-6b17976e2bc8>\u001b[0m in \u001b[0;36m<module>\u001b[0;34m\u001b[0m\n\u001b[1;32m      3\u001b[0m         \u001b[0mf\u001b[0m \u001b[0;34m=\u001b[0m \u001b[0mtf\u001b[0m\u001b[0;34m.\u001b[0m\u001b[0msin\u001b[0m\u001b[0;34m(\u001b[0m\u001b[0mt\u001b[0m\u001b[0;34m)\u001b[0m\u001b[0;34m\u001b[0m\u001b[0;34m\u001b[0m\u001b[0m\n\u001b[1;32m      4\u001b[0m     \u001b[0mdf\u001b[0m \u001b[0;34m=\u001b[0m \u001b[0mtape1\u001b[0m\u001b[0;34m.\u001b[0m\u001b[0mgradient\u001b[0m\u001b[0;34m(\u001b[0m\u001b[0mf\u001b[0m\u001b[0;34m,\u001b[0m \u001b[0mt\u001b[0m\u001b[0;34m)\u001b[0m\u001b[0;34m\u001b[0m\u001b[0;34m\u001b[0m\u001b[0m\n\u001b[0;32m----> 5\u001b[0;31m \u001b[0mddf\u001b[0m \u001b[0;34m=\u001b[0m \u001b[0mtape0\u001b[0m\u001b[0;34m.\u001b[0m\u001b[0mgradient\u001b[0m\u001b[0;34m(\u001b[0m\u001b[0mdf\u001b[0m\u001b[0;34m,\u001b[0m \u001b[0mt\u001b[0m\u001b[0;34m)\u001b[0m\u001b[0;34m\u001b[0m\u001b[0;34m\u001b[0m\u001b[0m\n\u001b[0m",
      "\u001b[0;32m~/miniforge3/envs/python38/lib/python3.8/site-packages/tensorflow/python/eager/backprop.py\u001b[0m in \u001b[0;36mgradient\u001b[0;34m(self, target, sources, output_gradients, unconnected_gradients)\u001b[0m\n\u001b[1;32m   1078\u001b[0m                           for x in nest.flatten(output_gradients)]\n\u001b[1;32m   1079\u001b[0m \u001b[0;34m\u001b[0m\u001b[0m\n\u001b[0;32m-> 1080\u001b[0;31m     flat_grad = imperative_grad.imperative_grad(\n\u001b[0m\u001b[1;32m   1081\u001b[0m         \u001b[0mself\u001b[0m\u001b[0;34m.\u001b[0m\u001b[0m_tape\u001b[0m\u001b[0;34m,\u001b[0m\u001b[0;34m\u001b[0m\u001b[0;34m\u001b[0m\u001b[0m\n\u001b[1;32m   1082\u001b[0m         \u001b[0mflat_targets\u001b[0m\u001b[0;34m,\u001b[0m\u001b[0;34m\u001b[0m\u001b[0;34m\u001b[0m\u001b[0m\n",
      "\u001b[0;32m~/miniforge3/envs/python38/lib/python3.8/site-packages/tensorflow/python/eager/imperative_grad.py\u001b[0m in \u001b[0;36mimperative_grad\u001b[0;34m(tape, target, sources, output_gradients, sources_raw, unconnected_gradients)\u001b[0m\n\u001b[1;32m     69\u001b[0m         \"Unknown value for unconnected_gradients: %r\" % unconnected_gradients)\n\u001b[1;32m     70\u001b[0m \u001b[0;34m\u001b[0m\u001b[0m\n\u001b[0;32m---> 71\u001b[0;31m   return pywrap_tfe.TFE_Py_TapeGradient(\n\u001b[0m\u001b[1;32m     72\u001b[0m       \u001b[0mtape\u001b[0m\u001b[0;34m.\u001b[0m\u001b[0m_tape\u001b[0m\u001b[0;34m,\u001b[0m  \u001b[0;31m# pylint: disable=protected-access\u001b[0m\u001b[0;34m\u001b[0m\u001b[0;34m\u001b[0m\u001b[0m\n\u001b[1;32m     73\u001b[0m       \u001b[0mtarget\u001b[0m\u001b[0;34m,\u001b[0m\u001b[0;34m\u001b[0m\u001b[0;34m\u001b[0m\u001b[0m\n",
      "\u001b[0;32m~/miniforge3/envs/python38/lib/python3.8/site-packages/tensorflow/python/eager/backprop.py\u001b[0m in \u001b[0;36m_gradient_function\u001b[0;34m(op_name, attr_tuple, num_inputs, inputs, outputs, out_grads, skip_input_indices, forward_pass_name_scope)\u001b[0m\n\u001b[1;32m    149\u001b[0m   \"\"\"\n\u001b[1;32m    150\u001b[0m   \u001b[0mmock_op\u001b[0m \u001b[0;34m=\u001b[0m \u001b[0m_MockOp\u001b[0m\u001b[0;34m(\u001b[0m\u001b[0mattr_tuple\u001b[0m\u001b[0;34m,\u001b[0m \u001b[0minputs\u001b[0m\u001b[0;34m,\u001b[0m \u001b[0moutputs\u001b[0m\u001b[0;34m,\u001b[0m \u001b[0mop_name\u001b[0m\u001b[0;34m,\u001b[0m \u001b[0mskip_input_indices\u001b[0m\u001b[0;34m)\u001b[0m\u001b[0;34m\u001b[0m\u001b[0;34m\u001b[0m\u001b[0m\n\u001b[0;32m--> 151\u001b[0;31m   \u001b[0mgrad_fn\u001b[0m \u001b[0;34m=\u001b[0m \u001b[0mops\u001b[0m\u001b[0;34m.\u001b[0m\u001b[0m_gradient_registry\u001b[0m\u001b[0;34m.\u001b[0m\u001b[0mlookup\u001b[0m\u001b[0;34m(\u001b[0m\u001b[0mop_name\u001b[0m\u001b[0;34m)\u001b[0m  \u001b[0;31m# pylint: disable=protected-access\u001b[0m\u001b[0;34m\u001b[0m\u001b[0;34m\u001b[0m\u001b[0m\n\u001b[0m\u001b[1;32m    152\u001b[0m   \u001b[0;32mif\u001b[0m \u001b[0mgrad_fn\u001b[0m \u001b[0;32mis\u001b[0m \u001b[0;32mNone\u001b[0m\u001b[0;34m:\u001b[0m\u001b[0;34m\u001b[0m\u001b[0;34m\u001b[0m\u001b[0m\n\u001b[1;32m    153\u001b[0m     \u001b[0;32mreturn\u001b[0m \u001b[0;34m[\u001b[0m\u001b[0;32mNone\u001b[0m\u001b[0;34m]\u001b[0m \u001b[0;34m*\u001b[0m \u001b[0mnum_inputs\u001b[0m\u001b[0;34m\u001b[0m\u001b[0;34m\u001b[0m\u001b[0m\n",
      "\u001b[0;32m~/miniforge3/envs/python38/lib/python3.8/site-packages/tensorflow/python/framework/registry.py\u001b[0m in \u001b[0;36mlookup\u001b[0;34m(self, name)\u001b[0m\n\u001b[1;32m     96\u001b[0m       \u001b[0;32mreturn\u001b[0m \u001b[0mself\u001b[0m\u001b[0;34m.\u001b[0m\u001b[0m_registry\u001b[0m\u001b[0;34m[\u001b[0m\u001b[0mname\u001b[0m\u001b[0;34m]\u001b[0m\u001b[0;34m[\u001b[0m\u001b[0m_TYPE_TAG\u001b[0m\u001b[0;34m]\u001b[0m\u001b[0;34m\u001b[0m\u001b[0;34m\u001b[0m\u001b[0m\n\u001b[1;32m     97\u001b[0m     \u001b[0;32melse\u001b[0m\u001b[0;34m:\u001b[0m\u001b[0;34m\u001b[0m\u001b[0;34m\u001b[0m\u001b[0m\n\u001b[0;32m---> 98\u001b[0;31m       raise LookupError(\n\u001b[0m\u001b[1;32m     99\u001b[0m           \"%s registry has no entry for: %s\" % (self._name, name))\n",
      "\u001b[0;31mLookupError\u001b[0m: gradient registry has no entry for: MLCSinGrad"
     ]
    }
   ],
   "source": [
    "with tf.GradientTape() as tape0:\n",
    "    with tf.GradientTape() as tape1:\n",
    "        f = tf.sin(t)\n",
    "    df = tape1.gradient(f, t)\n",
    "ddf = tape0.gradient(df, t)"
   ]
  },
  {
   "cell_type": "markdown",
   "metadata": {},
   "source": [
    "The two gradient tapes are nescessary since tensorflow by default only allows one gradient to be calculated from a tape. If recording gradients themselves to the tape is intended one has to pass `persistent=True` - so the following works as well:"
   ]
  },
  {
   "cell_type": "code",
   "execution_count": 18,
   "metadata": {},
   "outputs": [
    {
     "name": "stdout",
     "output_type": "stream",
     "text": [
      "WARNING:tensorflow:Calling GradientTape.gradient on a persistent tape inside its context is significantly less efficient than calling it outside the context (it causes the gradient ops to be recorded on the tape, leading to increased CPU and memory usage). Only call GradientTape.gradient inside the context if you actually want to trace the gradient in order to compute higher order derivatives.\n"
     ]
    },
    {
     "ename": "LookupError",
     "evalue": "gradient registry has no entry for: MLCSinGrad",
     "output_type": "error",
     "traceback": [
      "\u001b[0;31m---------------------------------------------------------------------------\u001b[0m",
      "\u001b[0;31mLookupError\u001b[0m                               Traceback (most recent call last)",
      "\u001b[0;32m<ipython-input-18-2ab7680ff22d>\u001b[0m in \u001b[0;36m<module>\u001b[0;34m\u001b[0m\n\u001b[1;32m      4\u001b[0m     \u001b[0mdf\u001b[0m \u001b[0;34m=\u001b[0m \u001b[0mtape\u001b[0m\u001b[0;34m.\u001b[0m\u001b[0mgradient\u001b[0m\u001b[0;34m(\u001b[0m\u001b[0mf\u001b[0m\u001b[0;34m,\u001b[0m \u001b[0mt\u001b[0m\u001b[0;34m)\u001b[0m\u001b[0;34m\u001b[0m\u001b[0;34m\u001b[0m\u001b[0m\n\u001b[1;32m      5\u001b[0m \u001b[0;31m# now we can calculate the gradient of the gradient\u001b[0m\u001b[0;34m\u001b[0m\u001b[0;34m\u001b[0m\u001b[0;34m\u001b[0m\u001b[0m\n\u001b[0;32m----> 6\u001b[0;31m \u001b[0mddf_alternative\u001b[0m \u001b[0;34m=\u001b[0m \u001b[0mtape\u001b[0m\u001b[0;34m.\u001b[0m\u001b[0mgradient\u001b[0m\u001b[0;34m(\u001b[0m\u001b[0mdf\u001b[0m\u001b[0;34m,\u001b[0m \u001b[0mt\u001b[0m\u001b[0;34m)\u001b[0m\u001b[0;34m\u001b[0m\u001b[0;34m\u001b[0m\u001b[0m\n\u001b[0m",
      "\u001b[0;32m~/miniforge3/envs/python38/lib/python3.8/site-packages/tensorflow/python/eager/backprop.py\u001b[0m in \u001b[0;36mgradient\u001b[0;34m(self, target, sources, output_gradients, unconnected_gradients)\u001b[0m\n\u001b[1;32m   1078\u001b[0m                           for x in nest.flatten(output_gradients)]\n\u001b[1;32m   1079\u001b[0m \u001b[0;34m\u001b[0m\u001b[0m\n\u001b[0;32m-> 1080\u001b[0;31m     flat_grad = imperative_grad.imperative_grad(\n\u001b[0m\u001b[1;32m   1081\u001b[0m         \u001b[0mself\u001b[0m\u001b[0;34m.\u001b[0m\u001b[0m_tape\u001b[0m\u001b[0;34m,\u001b[0m\u001b[0;34m\u001b[0m\u001b[0;34m\u001b[0m\u001b[0m\n\u001b[1;32m   1082\u001b[0m         \u001b[0mflat_targets\u001b[0m\u001b[0;34m,\u001b[0m\u001b[0;34m\u001b[0m\u001b[0;34m\u001b[0m\u001b[0m\n",
      "\u001b[0;32m~/miniforge3/envs/python38/lib/python3.8/site-packages/tensorflow/python/eager/imperative_grad.py\u001b[0m in \u001b[0;36mimperative_grad\u001b[0;34m(tape, target, sources, output_gradients, sources_raw, unconnected_gradients)\u001b[0m\n\u001b[1;32m     69\u001b[0m         \"Unknown value for unconnected_gradients: %r\" % unconnected_gradients)\n\u001b[1;32m     70\u001b[0m \u001b[0;34m\u001b[0m\u001b[0m\n\u001b[0;32m---> 71\u001b[0;31m   return pywrap_tfe.TFE_Py_TapeGradient(\n\u001b[0m\u001b[1;32m     72\u001b[0m       \u001b[0mtape\u001b[0m\u001b[0;34m.\u001b[0m\u001b[0m_tape\u001b[0m\u001b[0;34m,\u001b[0m  \u001b[0;31m# pylint: disable=protected-access\u001b[0m\u001b[0;34m\u001b[0m\u001b[0;34m\u001b[0m\u001b[0m\n\u001b[1;32m     73\u001b[0m       \u001b[0mtarget\u001b[0m\u001b[0;34m,\u001b[0m\u001b[0;34m\u001b[0m\u001b[0;34m\u001b[0m\u001b[0m\n",
      "\u001b[0;32m~/miniforge3/envs/python38/lib/python3.8/site-packages/tensorflow/python/eager/backprop.py\u001b[0m in \u001b[0;36m_gradient_function\u001b[0;34m(op_name, attr_tuple, num_inputs, inputs, outputs, out_grads, skip_input_indices, forward_pass_name_scope)\u001b[0m\n\u001b[1;32m    149\u001b[0m   \"\"\"\n\u001b[1;32m    150\u001b[0m   \u001b[0mmock_op\u001b[0m \u001b[0;34m=\u001b[0m \u001b[0m_MockOp\u001b[0m\u001b[0;34m(\u001b[0m\u001b[0mattr_tuple\u001b[0m\u001b[0;34m,\u001b[0m \u001b[0minputs\u001b[0m\u001b[0;34m,\u001b[0m \u001b[0moutputs\u001b[0m\u001b[0;34m,\u001b[0m \u001b[0mop_name\u001b[0m\u001b[0;34m,\u001b[0m \u001b[0mskip_input_indices\u001b[0m\u001b[0;34m)\u001b[0m\u001b[0;34m\u001b[0m\u001b[0;34m\u001b[0m\u001b[0m\n\u001b[0;32m--> 151\u001b[0;31m   \u001b[0mgrad_fn\u001b[0m \u001b[0;34m=\u001b[0m \u001b[0mops\u001b[0m\u001b[0;34m.\u001b[0m\u001b[0m_gradient_registry\u001b[0m\u001b[0;34m.\u001b[0m\u001b[0mlookup\u001b[0m\u001b[0;34m(\u001b[0m\u001b[0mop_name\u001b[0m\u001b[0;34m)\u001b[0m  \u001b[0;31m# pylint: disable=protected-access\u001b[0m\u001b[0;34m\u001b[0m\u001b[0;34m\u001b[0m\u001b[0m\n\u001b[0m\u001b[1;32m    152\u001b[0m   \u001b[0;32mif\u001b[0m \u001b[0mgrad_fn\u001b[0m \u001b[0;32mis\u001b[0m \u001b[0;32mNone\u001b[0m\u001b[0;34m:\u001b[0m\u001b[0;34m\u001b[0m\u001b[0;34m\u001b[0m\u001b[0m\n\u001b[1;32m    153\u001b[0m     \u001b[0;32mreturn\u001b[0m \u001b[0;34m[\u001b[0m\u001b[0;32mNone\u001b[0m\u001b[0;34m]\u001b[0m \u001b[0;34m*\u001b[0m \u001b[0mnum_inputs\u001b[0m\u001b[0;34m\u001b[0m\u001b[0;34m\u001b[0m\u001b[0m\n",
      "\u001b[0;32m~/miniforge3/envs/python38/lib/python3.8/site-packages/tensorflow/python/framework/registry.py\u001b[0m in \u001b[0;36mlookup\u001b[0;34m(self, name)\u001b[0m\n\u001b[1;32m     96\u001b[0m       \u001b[0;32mreturn\u001b[0m \u001b[0mself\u001b[0m\u001b[0;34m.\u001b[0m\u001b[0m_registry\u001b[0m\u001b[0;34m[\u001b[0m\u001b[0mname\u001b[0m\u001b[0;34m]\u001b[0m\u001b[0;34m[\u001b[0m\u001b[0m_TYPE_TAG\u001b[0m\u001b[0;34m]\u001b[0m\u001b[0;34m\u001b[0m\u001b[0;34m\u001b[0m\u001b[0m\n\u001b[1;32m     97\u001b[0m     \u001b[0;32melse\u001b[0m\u001b[0;34m:\u001b[0m\u001b[0;34m\u001b[0m\u001b[0;34m\u001b[0m\u001b[0m\n\u001b[0;32m---> 98\u001b[0;31m       raise LookupError(\n\u001b[0m\u001b[1;32m     99\u001b[0m           \"%s registry has no entry for: %s\" % (self._name, name))\n",
      "\u001b[0;31mLookupError\u001b[0m: gradient registry has no entry for: MLCSinGrad"
     ]
    }
   ],
   "source": [
    "with tf.GradientTape(persistent=True) as tape:\n",
    "    f = tf.sin(t)\n",
    "    # this is inside the with block, so the gradient itself will also be recorded to the gradient tape\n",
    "    df = tape.gradient(f, t)\n",
    "# now we can calculate the gradient of the gradient\n",
    "ddf_alternative = tape.gradient(df, t)"
   ]
  },
  {
   "cell_type": "code",
   "execution_count": 19,
   "metadata": {},
   "outputs": [
    {
     "ename": "NameError",
     "evalue": "name 'ddf' is not defined",
     "output_type": "error",
     "traceback": [
      "\u001b[0;31m---------------------------------------------------------------------------\u001b[0m",
      "\u001b[0;31mNameError\u001b[0m                                 Traceback (most recent call last)",
      "\u001b[0;32m<ipython-input-19-ecfd8ddc802c>\u001b[0m in \u001b[0;36m<module>\u001b[0;34m\u001b[0m\n\u001b[1;32m      1\u001b[0m \u001b[0mplt\u001b[0m\u001b[0;34m.\u001b[0m\u001b[0mplot\u001b[0m\u001b[0;34m(\u001b[0m\u001b[0mt\u001b[0m\u001b[0;34m.\u001b[0m\u001b[0mnumpy\u001b[0m\u001b[0;34m(\u001b[0m\u001b[0;34m)\u001b[0m\u001b[0;34m,\u001b[0m \u001b[0mf\u001b[0m\u001b[0;34m.\u001b[0m\u001b[0mnumpy\u001b[0m\u001b[0;34m(\u001b[0m\u001b[0;34m)\u001b[0m\u001b[0;34m,\u001b[0m \u001b[0mlabel\u001b[0m\u001b[0;34m=\u001b[0m\u001b[0;34m\"sin(t)\"\u001b[0m\u001b[0;34m)\u001b[0m\u001b[0;34m\u001b[0m\u001b[0;34m\u001b[0m\u001b[0m\n\u001b[1;32m      2\u001b[0m \u001b[0mplt\u001b[0m\u001b[0;34m.\u001b[0m\u001b[0mplot\u001b[0m\u001b[0;34m(\u001b[0m\u001b[0mt\u001b[0m\u001b[0;34m.\u001b[0m\u001b[0mnumpy\u001b[0m\u001b[0;34m(\u001b[0m\u001b[0;34m)\u001b[0m\u001b[0;34m,\u001b[0m \u001b[0mdf\u001b[0m\u001b[0;34m.\u001b[0m\u001b[0mnumpy\u001b[0m\u001b[0;34m(\u001b[0m\u001b[0;34m)\u001b[0m\u001b[0;34m,\u001b[0m \u001b[0mlabel\u001b[0m\u001b[0;34m=\u001b[0m\u001b[0;34m\"sin'(t)\"\u001b[0m\u001b[0;34m)\u001b[0m\u001b[0;34m\u001b[0m\u001b[0;34m\u001b[0m\u001b[0m\n\u001b[0;32m----> 3\u001b[0;31m \u001b[0mplt\u001b[0m\u001b[0;34m.\u001b[0m\u001b[0mplot\u001b[0m\u001b[0;34m(\u001b[0m\u001b[0mt\u001b[0m\u001b[0;34m.\u001b[0m\u001b[0mnumpy\u001b[0m\u001b[0;34m(\u001b[0m\u001b[0;34m)\u001b[0m\u001b[0;34m,\u001b[0m \u001b[0mddf\u001b[0m\u001b[0;34m.\u001b[0m\u001b[0mnumpy\u001b[0m\u001b[0;34m(\u001b[0m\u001b[0;34m)\u001b[0m\u001b[0;34m,\u001b[0m \u001b[0mlabel\u001b[0m\u001b[0;34m=\u001b[0m\u001b[0;34m\"sin''(t)\"\u001b[0m\u001b[0;34m)\u001b[0m\u001b[0;34m\u001b[0m\u001b[0;34m\u001b[0m\u001b[0m\n\u001b[0m\u001b[1;32m      4\u001b[0m \u001b[0mplt\u001b[0m\u001b[0;34m.\u001b[0m\u001b[0mlegend\u001b[0m\u001b[0;34m(\u001b[0m\u001b[0;34m)\u001b[0m\u001b[0;34m\u001b[0m\u001b[0;34m\u001b[0m\u001b[0m\n",
      "\u001b[0;31mNameError\u001b[0m: name 'ddf' is not defined"
     ]
    },
    {
     "data": {
      "image/png": "[encoded data removed]",
      "text/plain": [
       "<Figure size 432x288 with 1 Axes>"
      ]
     },
     "metadata": {
      "needs_background": "light"
     },
     "output_type": "display_data"
    }
   ],
   "source": [
    "plt.plot(t.numpy(), f.numpy(), label=\"sin(t)\")\n",
    "plt.plot(t.numpy(), df.numpy(), label=\"sin'(t)\")\n",
    "plt.plot(t.numpy(), ddf.numpy(), label=\"sin''(t)\")\n",
    "plt.legend()"
   ]
  },
  {
   "cell_type": "markdown",
   "metadata": {},
   "source": [
    "## Manually build a NN in TensorFlow\n",
    "\n",
    "Let's build a 1-hidden-layer NN, similar to what we did in [NNFromScratchNumpy.ipynb](NNFromScratchNumpy.ipynb) now with TensorFlow."
   ]
  },
  {
   "cell_type": "markdown",
   "metadata": {},
   "source": [
    "First, we define the weights and biases for the hidden layer and the output layer via `tf.Variable`. We initialize the weights randomly (normal distribution) and the biases to 0. We will again use the convention with column vectors."
   ]
  },
  {
   "cell_type": "code",
   "execution_count": 20,
   "metadata": {},
   "outputs": [
    {
     "name": "stdout",
     "output_type": "stream",
     "text": [
      "<tf.Variable 'W:0' shape=(16, 2) dtype=float32, numpy=\n",
      "array([[-0.72630984, -0.00545759],\n",
      "       [-1.2317408 , -0.87267065],\n",
      "       [-1.2237071 , -0.11954171],\n",
      "       [-0.9738352 ,  0.93910956],\n",
      "       [-0.5695663 ,  1.0953085 ],\n",
      "       [ 0.3419073 , -0.7382464 ],\n",
      "       [ 0.22537023,  1.6380353 ],\n",
      "       [ 0.45336032,  0.36624607],\n",
      "       [ 1.1635612 ,  0.89724565],\n",
      "       [-0.4510688 ,  0.3654364 ],\n",
      "       [-2.1120641 ,  0.91454744],\n",
      "       [-0.24243267, -2.3603067 ],\n",
      "       [ 1.4049532 , -1.0181416 ],\n",
      "       [-0.90879494,  0.81345654],\n",
      "       [-0.46710333, -0.913265  ],\n",
      "       [ 1.6629755 , -0.64178246]], dtype=float32)>\n",
      "<tf.Variable 'Variable:0' shape=(16, 1) dtype=float32, numpy=\n",
      "array([[0.],\n",
      "       [0.],\n",
      "       [0.],\n",
      "       [0.],\n",
      "       [0.],\n",
      "       [0.],\n",
      "       [0.],\n",
      "       [0.],\n",
      "       [0.],\n",
      "       [0.],\n",
      "       [0.],\n",
      "       [0.],\n",
      "       [0.],\n",
      "       [0.],\n",
      "       [0.],\n",
      "       [0.]], dtype=float32)>\n"
     ]
    }
   ],
   "source": [
    "# hidden layer parameters\n",
    "W = tf.Variable(tf.random.normal((16, 2)), name=\"W\")\n",
    "b = tf.Variable(tf.zeros((16, 1)))\n",
    "print(W)\n",
    "print(b)"
   ]
  },
  {
   "cell_type": "code",
   "execution_count": 21,
   "metadata": {},
   "outputs": [
    {
     "name": "stdout",
     "output_type": "stream",
     "text": [
      "<tf.Variable 'Variable:0' shape=(1, 16) dtype=float32, numpy=\n",
      "array([[ 0.808338  ,  0.1531434 , -0.49776202,  1.3799297 , -0.35067466,\n",
      "        -0.72667414, -0.8745159 , -0.79343253,  0.97112733,  0.7214589 ,\n",
      "         0.28453377, -0.43824697, -0.04035038,  3.7991776 ,  1.4646466 ,\n",
      "        -0.864121  ]], dtype=float32)>\n",
      "<tf.Variable 'Variable:0' shape=(1, 1) dtype=float32, numpy=array([[0.]], dtype=float32)>\n"
     ]
    }
   ],
   "source": [
    "# output layer parameters\n",
    "W2 = tf.Variable(tf.random.normal((1, 16)))\n",
    "b2 = tf.Variable(tf.zeros((1, 1)))\n",
    "print(W2)\n",
    "print(b2)"
   ]
  },
  {
   "cell_type": "markdown",
   "metadata": {},
   "source": [
    "Now, let's propagate some inputs through the neural network."
   ]
  },
  {
   "cell_type": "code",
   "execution_count": 22,
   "metadata": {},
   "outputs": [
    {
     "data": {
      "text/plain": [
       "<tf.Tensor: shape=(10, 2, 1), dtype=float32, numpy=\n",
       "array([[[ 1.0506794 ],\n",
       "        [ 0.36753052]],\n",
       "\n",
       "       [[-1.1834087 ],\n",
       "        [ 1.2328981 ]],\n",
       "\n",
       "       [[-0.28827983],\n",
       "        [ 0.46150866]],\n",
       "\n",
       "       [[ 0.5152769 ],\n",
       "        [-0.21566683]],\n",
       "\n",
       "       [[-0.18445948],\n",
       "        [ 0.73982996]],\n",
       "\n",
       "       [[-1.0714079 ],\n",
       "        [-0.2562689 ]],\n",
       "\n",
       "       [[ 0.8203896 ],\n",
       "        [ 0.95971173]],\n",
       "\n",
       "       [[-1.0274022 ],\n",
       "        [-0.09493383]],\n",
       "\n",
       "       [[ 1.1469103 ],\n",
       "        [ 0.13052867]],\n",
       "\n",
       "       [[-1.4135598 ],\n",
       "        [-0.55361015]]], dtype=float32)>"
      ]
     },
     "execution_count": 22,
     "metadata": {},
     "output_type": "execute_result"
    }
   ],
   "source": [
    "inp = tf.random.normal((10, 2, 1))\n",
    "inp"
   ]
  },
  {
   "cell_type": "markdown",
   "metadata": {},
   "source": [
    "The output of the first hidden layer."
   ]
  },
  {
   "cell_type": "code",
   "execution_count": 23,
   "metadata": {},
   "outputs": [
    {
     "data": {
      "text/plain": [
       "<tf.Tensor: shape=(10, 16, 1), dtype=float32, numpy=\n",
       "array([[[-0.7651246 ],\n",
       "        [-1.6148978 ],\n",
       "        [-1.3296591 ],\n",
       "        [-0.67803717],\n",
       "        [-0.19587228],\n",
       "        [ 0.08790687],\n",
       "        [ 0.8388198 ],\n",
       "        [ 0.61094296],\n",
       "        [ 1.5522951 ],\n",
       "        [-0.33961964],\n",
       "        [-1.8829783 ],\n",
       "        [-1.1222038 ],\n",
       "        [ 1.1019573 ],\n",
       "        [-0.65588206],\n",
       "        [-0.82642865],\n",
       "        [ 1.5113796 ]],\n",
       "\n",
       "       [[ 0.85279274],\n",
       "        [ 0.38173878],\n",
       "        [ 1.3007629 ],\n",
       "        [ 2.3102715 ],\n",
       "        [ 2.0244336 ],\n",
       "        [-1.3147987 ],\n",
       "        [ 1.7528255 ],\n",
       "        [-0.08496648],\n",
       "        [-0.270756  ],\n",
       "        [ 0.9843446 ],\n",
       "        [ 3.6269789 ],\n",
       "        [-2.6231208 ],\n",
       "        [-2.9178987 ],\n",
       "        [ 2.0783849 ],\n",
       "        [-0.57318854],\n",
       "        [-2.759232  ]],\n",
       "\n",
       "       [[ 0.20686175],\n",
       "        [-0.04765904],\n",
       "        [ 0.29760054],\n",
       "        [ 0.71414423],\n",
       "        [ 0.6696888 ],\n",
       "        [-0.43927208],\n",
       "        [ 0.69099784],\n",
       "        [ 0.03833109],\n",
       "        [ 0.07865539],\n",
       "        [ 0.2986861 ],\n",
       "        [ 1.0309371 ],\n",
       "        [-1.0194136 ],\n",
       "        [-0.8749008 ],\n",
       "        [ 0.63740444],\n",
       "        [-0.2868232 ],\n",
       "        [-0.7755905 ]],\n",
       "\n",
       "       [[-0.37307367],\n",
       "        [-0.4464815 ],\n",
       "        [-0.60476685],\n",
       "        [-0.70432955],\n",
       "        [-0.52970606],\n",
       "        [ 0.33539218],\n",
       "        [-0.2371418 ],\n",
       "        [ 0.15461898],\n",
       "        [ 0.4060501 ],\n",
       "        [-0.31123784],\n",
       "        [-1.2855353 ],\n",
       "        [ 0.38411993],\n",
       "        [ 0.94351935],\n",
       "        [-0.64371663],\n",
       "        [-0.04372659],\n",
       "        [ 0.9953041 ]],\n",
       "\n",
       "       [[ 0.12993705],\n",
       "        [-0.41842163],\n",
       "        [ 0.13728383],\n",
       "        [ 0.8744145 ],\n",
       "        [ 0.91540396],\n",
       "        [-0.6092448 ],\n",
       "        [ 1.170296  ],\n",
       "        [ 0.18733323],\n",
       "        [ 0.4491793 ],\n",
       "        [ 0.3535647 ],\n",
       "        [ 1.0661998 ],\n",
       "        [-1.7015066 ],\n",
       "        [-1.0124086 ],\n",
       "        [ 0.7694554 ],\n",
       "        [-0.5894992 ],\n",
       "        [-0.7815615 ]],\n",
       "\n",
       "       [[ 0.7795727 ],\n",
       "        [ 1.5433352 ],\n",
       "        [ 1.3417243 ],\n",
       "        [ 0.80271006],\n",
       "        [ 0.32954434],\n",
       "        [-0.1771326 ],\n",
       "        [-0.66124094],\n",
       "        [-0.57959133],\n",
       "        [-1.4765848 ],\n",
       "        [ 0.38962868],\n",
       "        [ 2.0285122 ],\n",
       "        [ 0.86461747],\n",
       "        [-1.24436   ],\n",
       "        [ 0.7652265 ],\n",
       "        [ 0.7344996 ],\n",
       "        [-1.6172563 ]],\n",
       "\n",
       "       [[-0.6010948 ],\n",
       "        [-1.8480196 ],\n",
       "        [-1.1186422 ],\n",
       "        [ 0.10235018],\n",
       "        [ 0.58391416],\n",
       "        [-0.42800653],\n",
       "        [ 1.756933  ],\n",
       "        [ 0.72342277],\n",
       "        [ 1.8156707 ],\n",
       "        [-0.01933855],\n",
       "        [-0.85501355],\n",
       "        [-2.4641032 ],\n",
       "        [ 0.17548662],\n",
       "        [ 0.03511781],\n",
       "        [-1.2596779 ],\n",
       "        [ 0.7483617 ]],\n",
       "\n",
       "       [[ 0.7467304 ],\n",
       "        [ 1.3483391 ],\n",
       "        [ 1.268588  ],\n",
       "        [ 0.91136706],\n",
       "        [ 0.4811918 ],\n",
       "        [-0.2811917 ],\n",
       "        [-0.38705084],\n",
       "        [-0.5005525 ],\n",
       "        [-1.2806243 ],\n",
       "        [ 0.42873678],\n",
       "        [ 2.0831177 ],\n",
       "        [ 0.47314882],\n",
       "        [-1.3467959 ],\n",
       "        [ 0.8564733 ],\n",
       "        [ 0.5666027 ],\n",
       "        [-1.6476178 ]],\n",
       "\n",
       "       [[-0.8337246 ],\n",
       "        [-1.5266048 ],\n",
       "        [-1.419086  ],\n",
       "        [-0.9943209 ],\n",
       "        [-0.51027226],\n",
       "        [ 0.29577467],\n",
       "        [ 0.47229004],\n",
       "        [ 0.5677692 ],\n",
       "        [ 1.4516166 ],\n",
       "        [-0.4696355 ],\n",
       "        [-2.3029733 ],\n",
       "        [-0.5861362 ],\n",
       "        [ 1.4784586 ],\n",
       "        [-0.9361269 ],\n",
       "        [-0.6549329 ],\n",
       "        [ 1.8235128 ]],\n",
       "\n",
       "       [[ 1.0297037 ],\n",
       "        [ 2.2242587 ],\n",
       "        [ 1.7959627 ],\n",
       "        [ 0.8566737 ],\n",
       "        [ 0.19874215],\n",
       "        [-0.07460573],\n",
       "        [-1.2254072 ],\n",
       "        [-0.84360945],\n",
       "        [-2.1414876 ],\n",
       "        [ 0.4353034 ],\n",
       "        [ 2.479226  ],\n",
       "        [ 1.6493828 ],\n",
       "        [-1.4223318 ],\n",
       "        [ 0.83429825],\n",
       "        [ 1.1658713 ],\n",
       "        [-1.9954181 ]]], dtype=float32)>"
      ]
     },
     "execution_count": 23,
     "metadata": {},
     "output_type": "execute_result"
    }
   ],
   "source": [
    "z = tf.add(tf.matmul(W, inp), b)\n",
    "z"
   ]
  },
  {
   "cell_type": "code",
   "execution_count": 24,
   "metadata": {},
   "outputs": [
    {
     "data": {
      "text/plain": [
       "<tf.Tensor: shape=(10, 16, 1), dtype=float32, numpy=\n",
       "array([[[0.        ],\n",
       "        [0.        ],\n",
       "        [0.        ],\n",
       "        [0.        ],\n",
       "        [0.        ],\n",
       "        [0.08790687],\n",
       "        [0.8388198 ],\n",
       "        [0.61094296],\n",
       "        [1.5522951 ],\n",
       "        [0.        ],\n",
       "        [0.        ],\n",
       "        [0.        ],\n",
       "        [1.1019573 ],\n",
       "        [0.        ],\n",
       "        [0.        ],\n",
       "        [1.5113796 ]],\n",
       "\n",
       "       [[0.85279274],\n",
       "        [0.38173878],\n",
       "        [1.3007629 ],\n",
       "        [2.3102715 ],\n",
       "        [2.0244336 ],\n",
       "        [0.        ],\n",
       "        [1.7528255 ],\n",
       "        [0.        ],\n",
       "        [0.        ],\n",
       "        [0.9843446 ],\n",
       "        [3.6269789 ],\n",
       "        [0.        ],\n",
       "        [0.        ],\n",
       "        [2.0783849 ],\n",
       "        [0.        ],\n",
       "        [0.        ]],\n",
       "\n",
       "       [[0.20686175],\n",
       "        [0.        ],\n",
       "        [0.29760054],\n",
       "        [0.71414423],\n",
       "        [0.6696888 ],\n",
       "        [0.        ],\n",
       "        [0.69099784],\n",
       "        [0.03833109],\n",
       "        [0.07865539],\n",
       "        [0.2986861 ],\n",
       "        [1.0309371 ],\n",
       "        [0.        ],\n",
       "        [0.        ],\n",
       "        [0.63740444],\n",
       "        [0.        ],\n",
       "        [0.        ]],\n",
       "\n",
       "       [[0.        ],\n",
       "        [0.        ],\n",
       "        [0.        ],\n",
       "        [0.        ],\n",
       "        [0.        ],\n",
       "        [0.33539218],\n",
       "        [0.        ],\n",
       "        [0.15461898],\n",
       "        [0.4060501 ],\n",
       "        [0.        ],\n",
       "        [0.        ],\n",
       "        [0.38411993],\n",
       "        [0.94351935],\n",
       "        [0.        ],\n",
       "        [0.        ],\n",
       "        [0.9953041 ]],\n",
       "\n",
       "       [[0.12993705],\n",
       "        [0.        ],\n",
       "        [0.13728383],\n",
       "        [0.8744145 ],\n",
       "        [0.91540396],\n",
       "        [0.        ],\n",
       "        [1.170296  ],\n",
       "        [0.18733323],\n",
       "        [0.4491793 ],\n",
       "        [0.3535647 ],\n",
       "        [1.0661998 ],\n",
       "        [0.        ],\n",
       "        [0.        ],\n",
       "        [0.7694554 ],\n",
       "        [0.        ],\n",
       "        [0.        ]],\n",
       "\n",
       "       [[0.7795727 ],\n",
       "        [1.5433352 ],\n",
       "        [1.3417243 ],\n",
       "        [0.80271006],\n",
       "        [0.32954434],\n",
       "        [0.        ],\n",
       "        [0.        ],\n",
       "        [0.        ],\n",
       "        [0.        ],\n",
       "        [0.38962868],\n",
       "        [2.0285122 ],\n",
       "        [0.86461747],\n",
       "        [0.        ],\n",
       "        [0.7652265 ],\n",
       "        [0.7344996 ],\n",
       "        [0.        ]],\n",
       "\n",
       "       [[0.        ],\n",
       "        [0.        ],\n",
       "        [0.        ],\n",
       "        [0.10235018],\n",
       "        [0.58391416],\n",
       "        [0.        ],\n",
       "        [1.756933  ],\n",
       "        [0.72342277],\n",
       "        [1.8156707 ],\n",
       "        [0.        ],\n",
       "        [0.        ],\n",
       "        [0.        ],\n",
       "        [0.17548662],\n",
       "        [0.03511781],\n",
       "        [0.        ],\n",
       "        [0.7483617 ]],\n",
       "\n",
       "       [[0.7467304 ],\n",
       "        [1.3483391 ],\n",
       "        [1.268588  ],\n",
       "        [0.91136706],\n",
       "        [0.4811918 ],\n",
       "        [0.        ],\n",
       "        [0.        ],\n",
       "        [0.        ],\n",
       "        [0.        ],\n",
       "        [0.42873678],\n",
       "        [2.0831177 ],\n",
       "        [0.47314882],\n",
       "        [0.        ],\n",
       "        [0.8564733 ],\n",
       "        [0.5666027 ],\n",
       "        [0.        ]],\n",
       "\n",
       "       [[0.        ],\n",
       "        [0.        ],\n",
       "        [0.        ],\n",
       "        [0.        ],\n",
       "        [0.        ],\n",
       "        [0.29577467],\n",
       "        [0.47229004],\n",
       "        [0.5677692 ],\n",
       "        [1.4516166 ],\n",
       "        [0.        ],\n",
       "        [0.        ],\n",
       "        [0.        ],\n",
       "        [1.4784586 ],\n",
       "        [0.        ],\n",
       "        [0.        ],\n",
       "        [1.8235128 ]],\n",
       "\n",
       "       [[1.0297037 ],\n",
       "        [2.2242587 ],\n",
       "        [1.7959627 ],\n",
       "        [0.8566737 ],\n",
       "        [0.19874215],\n",
       "        [0.        ],\n",
       "        [0.        ],\n",
       "        [0.        ],\n",
       "        [0.        ],\n",
       "        [0.4353034 ],\n",
       "        [2.479226  ],\n",
       "        [1.6493828 ],\n",
       "        [0.        ],\n",
       "        [0.83429825],\n",
       "        [1.1658713 ],\n",
       "        [0.        ]]], dtype=float32)>"
      ]
     },
     "execution_count": 24,
     "metadata": {},
     "output_type": "execute_result"
    }
   ],
   "source": [
    "a = tf.nn.relu(z)\n",
    "a"
   ]
  },
  {
   "cell_type": "code",
   "execution_count": 25,
   "metadata": {},
   "outputs": [
    {
     "data": {
      "text/plain": [
       "<tf.Tensor: shape=(10, 1, 1), dtype=float32, numpy=\n",
       "array([[[-1.125186 ]],\n",
       "\n",
       "       [[10.683871 ]],\n",
       "\n",
       "       [[ 3.1418276]],\n",
       "\n",
       "       [[-1.0385481]],\n",
       "\n",
       "       [[ 3.6682014]],\n",
       "\n",
       "       [[ 5.65315  ]],\n",
       "\n",
       "       [[-0.9310705]],\n",
       "\n",
       "       [[ 6.04597  ]],\n",
       "\n",
       "       [[-1.304131 ]],\n",
       "\n",
       "       [[ 6.5653496]]], dtype=float32)>"
      ]
     },
     "execution_count": 25,
     "metadata": {},
     "output_type": "execute_result"
    }
   ],
   "source": [
    "z2 = tf.add(tf.matmul(W2, a), b2)\n",
    "z2"
   ]
  },
  {
   "cell_type": "markdown",
   "metadata": {},
   "source": [
    "We will skip the activation function, since we will use a loss function that already applies the sigmoid transformation. This is numerically more stable.\n",
    "\n",
    "But first, we need to define the labels. For this experiment, let's choose them randomly."
   ]
  },
  {
   "cell_type": "code",
   "execution_count": 26,
   "metadata": {},
   "outputs": [
    {
     "data": {
      "text/plain": [
       "<tf.Variable 'Variable:0' shape=(10, 1, 1) dtype=float32, numpy=\n",
       "array([[[1.]],\n",
       "\n",
       "       [[1.]],\n",
       "\n",
       "       [[1.]],\n",
       "\n",
       "       [[1.]],\n",
       "\n",
       "       [[0.]],\n",
       "\n",
       "       [[0.]],\n",
       "\n",
       "       [[0.]],\n",
       "\n",
       "       [[0.]],\n",
       "\n",
       "       [[1.]],\n",
       "\n",
       "       [[0.]]], dtype=float32)>"
      ]
     },
     "execution_count": 26,
     "metadata": {},
     "output_type": "execute_result"
    }
   ],
   "source": [
    "y = tf.Variable(np.random.randint(0, 2, size=inp.shape[0]).reshape(-1, 1, 1), dtype=tf.float32)\n",
    "y"
   ]
  },
  {
   "cell_type": "markdown",
   "metadata": {},
   "source": [
    "Now the binary cross entropy with a sigmoid transformation of the input values that don't have the sigmoid applied already."
   ]
  },
  {
   "cell_type": "code",
   "execution_count": 27,
   "metadata": {},
   "outputs": [
    {
     "data": {
      "text/plain": [
       "<tf.Tensor: shape=(10, 1, 1), dtype=float32, numpy=\n",
       "array([[[1.4062905e+00]],\n",
       "\n",
       "       [[2.2911245e-05]],\n",
       "\n",
       "       [[4.2296525e-02]],\n",
       "\n",
       "       [[1.3415878e+00]],\n",
       "\n",
       "       [[3.6934035e+00]],\n",
       "\n",
       "       [[5.6566505e+00]],\n",
       "\n",
       "       [[3.3227170e-01]],\n",
       "\n",
       "       [[6.0483346e+00]],\n",
       "\n",
       "       [[1.5442562e+00]],\n",
       "\n",
       "       [[6.5667567e+00]]], dtype=float32)>"
      ]
     },
     "execution_count": 27,
     "metadata": {},
     "output_type": "execute_result"
    }
   ],
   "source": [
    "L = tf.nn.sigmoid_cross_entropy_with_logits(labels=y, logits=z2)\n",
    "L"
   ]
  },
  {
   "cell_type": "markdown",
   "metadata": {},
   "source": [
    "Now - **and this is the whole point of this tutorial** - to get the gradients w.r.t. all parameters, we can record the parameters to a `tf.GradientTape` and get the gradients w.r.t. all parameters."
   ]
  },
  {
   "cell_type": "code",
   "execution_count": 28,
   "metadata": {},
   "outputs": [],
   "source": [
    "def forward_NN(inp):\n",
    "    z = tf.add(tf.matmul(W, inp), b)\n",
    "    a = tf.nn.relu(z)\n",
    "    z2 = tf.add(tf.matmul(W2, a), b2)\n",
    "    return tf.nn.sigmoid_cross_entropy_with_logits(labels=y, logits=z2)"
   ]
  },
  {
   "cell_type": "code",
   "execution_count": 29,
   "metadata": {},
   "outputs": [
    {
     "data": {
      "text/plain": [
       "{'W': <tf.Tensor: shape=(16, 2), dtype=float32, numpy=\n",
       " array([[-2.9683094e+00, -1.6218358e-01],\n",
       "        [-5.3664279e-01, -1.3827974e-01],\n",
       "        [ 1.8278391e+00,  9.9870101e-02],\n",
       "        [-4.7472119e+00,  9.7532749e-02],\n",
       "        [ 1.2063854e+00, -2.4785489e-02],\n",
       "        [ 1.5084713e+00,  1.6048351e-01],\n",
       "        [ 1.4265635e+00, -5.1899230e-01],\n",
       "        [ 1.5962719e+00, -5.9727681e-01],\n",
       "        [-1.9537683e+00,  7.3104107e-01],\n",
       "        [-2.6492796e+00, -1.4475229e-01],\n",
       "        [-1.0448406e+00, -5.7088375e-02],\n",
       "        [ 1.7024928e+00,  3.2589343e-01],\n",
       "        [ 7.4403115e-02, -2.0365329e-03],\n",
       "        [-1.3069870e+01,  2.6852417e-01],\n",
       "        [-5.1324315e+00, -1.3224509e+00],\n",
       "        [ 1.5933753e+00, -4.3613225e-02]], dtype=float32)>,\n",
       " 'b': <tf.Tensor: shape=(16, 1), dtype=float32, numpy=\n",
       " array([[ 3.173869  ],\n",
       "        [ 0.4583145 ],\n",
       "        [-1.9544193 ],\n",
       "        [ 5.8082905 ],\n",
       "        [-1.476032  ],\n",
       "        [ 1.6568524 ],\n",
       "        [ 0.28430143],\n",
       "        [ 0.8439286 ],\n",
       "        [-1.0329325 ],\n",
       "        [ 2.8327456 ],\n",
       "        [ 1.117197  ],\n",
       "        [-0.98788226],\n",
       "        [ 0.08059345],\n",
       "        [15.991198  ],\n",
       "        [ 4.383303  ],\n",
       "        [ 1.7259443 ]], dtype=float32)>,\n",
       " 'W2': <tf.Tensor: shape=(1, 16), dtype=float32, numpy=\n",
       " array([[ 2.6681876 ,  5.1042194 ,  4.517577  ,  3.416548  ,  2.0368288 ,\n",
       "         -0.5467112 ,  0.6044749 , -0.63639444, -1.665493  ,  1.5830556 ,\n",
       "          7.572248  ,  2.6969914 , -2.6420166 ,  3.1839166 ,  2.461429  ,\n",
       "         -3.0987954 ]], dtype=float32)>,\n",
       " 'b2': <tf.Tensor: shape=(1, 1), dtype=float32, numpy=array([[1.9290721]], dtype=float32)>}"
      ]
     },
     "execution_count": 29,
     "metadata": {},
     "output_type": "execute_result"
    }
   ],
   "source": [
    "with tf.GradientTape() as tape:\n",
    "    L = forward_NN(inp)\n",
    "parameters = dict(W=W, b=b, W2=W2, b2=b2)\n",
    "# the gradient will have the same structure (dict, tuple) as the parameters\n",
    "grad_NN = tape.gradient(L, parameters)\n",
    "grad_NN"
   ]
  },
  {
   "cell_type": "markdown",
   "metadata": {},
   "source": [
    "## Inspect the computation graph"
   ]
  },
  {
   "cell_type": "markdown",
   "metadata": {},
   "source": [
    "Another way to trace computation graphs (other than `tf.GradientTape`) is by wrapping the operations into a `tf.function`. We won't go into detail here - have a look at the [`tf.function` tutorials](https://www.tensorflow.org/guide/intro_to_graphs) for further information.\n",
    "\n",
    "For illustration we use it here to display the computation graph with the `tensorboard` extension for Jupyter notebooks:"
   ]
  },
  {
   "cell_type": "code",
   "execution_count": 30,
   "metadata": {},
   "outputs": [],
   "source": [
    "%load_ext tensorboard"
   ]
  },
  {
   "cell_type": "code",
   "execution_count": 31,
   "metadata": {},
   "outputs": [
    {
     "name": "stdout",
     "output_type": "stream",
     "text": [
      "WARNING:tensorflow:From /Users/smiya/miniforge3/envs/python38/lib/python3.8/site-packages/tensorflow/python/ops/summary_ops_v2.py:1297: start (from tensorflow.python.eager.profiler) is deprecated and will be removed after 2020-07-01.\n",
      "Instructions for updating:\n",
      "use `tf.profiler.experimental.start` instead.\n",
      "WARNING:tensorflow:From /Users/smiya/miniforge3/envs/python38/lib/python3.8/site-packages/tensorflow/python/ops/summary_ops_v2.py:1353: stop (from tensorflow.python.eager.profiler) is deprecated and will be removed after 2020-07-01.\n",
      "Instructions for updating:\n",
      "use `tf.profiler.experimental.stop` instead.\n",
      "WARNING:tensorflow:From /Users/smiya/miniforge3/envs/python38/lib/python3.8/site-packages/tensorflow/python/ops/summary_ops_v2.py:1353: save (from tensorflow.python.eager.profiler) is deprecated and will be removed after 2020-07-01.\n",
      "Instructions for updating:\n",
      "`tf.python.eager.profiler` has deprecated, use `tf.profiler` instead.\n",
      "WARNING:tensorflow:From /Users/smiya/miniforge3/envs/python38/lib/python3.8/site-packages/tensorflow/python/eager/profiler.py:151: maybe_create_event_file (from tensorflow.python.eager.profiler) is deprecated and will be removed after 2020-07-01.\n",
      "Instructions for updating:\n",
      "`tf.python.eager.profiler` has deprecated, use `tf.profiler` instead.\n"
     ]
    },
    {
     "ename": "ProfilerNotRunningError",
     "evalue": "Cannot stop profiling. No profiler is running.",
     "output_type": "error",
     "traceback": [
      "\u001b[0;31m---------------------------------------------------------------------------\u001b[0m",
      "\u001b[0;31mProfilerNotRunningError\u001b[0m                   Traceback (most recent call last)",
      "\u001b[0;32m<ipython-input-31-201d9dab69b5>\u001b[0m in \u001b[0;36m<module>\u001b[0;34m\u001b[0m\n\u001b[1;32m     11\u001b[0m \u001b[0mL\u001b[0m \u001b[0;34m=\u001b[0m \u001b[0mtf\u001b[0m\u001b[0;34m.\u001b[0m\u001b[0mfunction\u001b[0m\u001b[0;34m(\u001b[0m\u001b[0mforward_NN\u001b[0m\u001b[0;34m)\u001b[0m\u001b[0;34m(\u001b[0m\u001b[0minp\u001b[0m\u001b[0;34m)\u001b[0m\u001b[0;34m\u001b[0m\u001b[0;34m\u001b[0m\u001b[0m\n\u001b[1;32m     12\u001b[0m \u001b[0;32mwith\u001b[0m \u001b[0mwriter\u001b[0m\u001b[0;34m.\u001b[0m\u001b[0mas_default\u001b[0m\u001b[0;34m(\u001b[0m\u001b[0;34m)\u001b[0m\u001b[0;34m:\u001b[0m\u001b[0;34m\u001b[0m\u001b[0;34m\u001b[0m\u001b[0m\n\u001b[0;32m---> 13\u001b[0;31m     tf.summary.trace_export(\n\u001b[0m\u001b[1;32m     14\u001b[0m           \u001b[0mname\u001b[0m\u001b[0;34m=\u001b[0m\u001b[0;34m\"my_func_trace\"\u001b[0m\u001b[0;34m,\u001b[0m\u001b[0;34m\u001b[0m\u001b[0;34m\u001b[0m\u001b[0m\n\u001b[1;32m     15\u001b[0m           \u001b[0mstep\u001b[0m\u001b[0;34m=\u001b[0m\u001b[0;36m0\u001b[0m\u001b[0;34m,\u001b[0m\u001b[0;34m\u001b[0m\u001b[0;34m\u001b[0m\u001b[0m\n",
      "\u001b[0;32m~/miniforge3/envs/python38/lib/python3.8/site-packages/tensorflow/python/ops/summary_ops_v2.py\u001b[0m in \u001b[0;36mtrace_export\u001b[0;34m(name, step, profiler_outdir)\u001b[0m\n\u001b[1;32m   1353\u001b[0m     \u001b[0m_profiler\u001b[0m\u001b[0;34m.\u001b[0m\u001b[0msave\u001b[0m\u001b[0;34m(\u001b[0m\u001b[0mprofiler_outdir\u001b[0m\u001b[0;34m,\u001b[0m \u001b[0m_profiler\u001b[0m\u001b[0;34m.\u001b[0m\u001b[0mstop\u001b[0m\u001b[0;34m(\u001b[0m\u001b[0;34m)\u001b[0m\u001b[0;34m)\u001b[0m\u001b[0;34m\u001b[0m\u001b[0;34m\u001b[0m\u001b[0m\n\u001b[1;32m   1354\u001b[0m \u001b[0;34m\u001b[0m\u001b[0m\n\u001b[0;32m-> 1355\u001b[0;31m   \u001b[0mtrace_off\u001b[0m\u001b[0;34m(\u001b[0m\u001b[0;34m)\u001b[0m\u001b[0;34m\u001b[0m\u001b[0;34m\u001b[0m\u001b[0m\n\u001b[0m\u001b[1;32m   1356\u001b[0m \u001b[0;34m\u001b[0m\u001b[0m\n\u001b[1;32m   1357\u001b[0m \u001b[0;34m\u001b[0m\u001b[0m\n",
      "\u001b[0;32m~/miniforge3/envs/python38/lib/python3.8/site-packages/tensorflow/python/ops/summary_ops_v2.py\u001b[0m in \u001b[0;36mtrace_off\u001b[0;34m()\u001b[0m\n\u001b[1;32m   1371\u001b[0m \u001b[0;34m\u001b[0m\u001b[0m\n\u001b[1;32m   1372\u001b[0m   \u001b[0;32mif\u001b[0m \u001b[0mprofiler\u001b[0m\u001b[0;34m:\u001b[0m\u001b[0;34m\u001b[0m\u001b[0;34m\u001b[0m\u001b[0m\n\u001b[0;32m-> 1373\u001b[0;31m     \u001b[0m_profiler\u001b[0m\u001b[0;34m.\u001b[0m\u001b[0mstop\u001b[0m\u001b[0;34m(\u001b[0m\u001b[0;34m)\u001b[0m\u001b[0;34m\u001b[0m\u001b[0;34m\u001b[0m\u001b[0m\n\u001b[0m",
      "\u001b[0;32m~/miniforge3/envs/python38/lib/python3.8/site-packages/tensorflow/python/util/deprecation.py\u001b[0m in \u001b[0;36mnew_func\u001b[0;34m(*args, **kwargs)\u001b[0m\n\u001b[1;32m    338\u001b[0m               \u001b[0;34m'in a future version'\u001b[0m \u001b[0;32mif\u001b[0m \u001b[0mdate\u001b[0m \u001b[0;32mis\u001b[0m \u001b[0;32mNone\u001b[0m \u001b[0;32melse\u001b[0m \u001b[0;34m(\u001b[0m\u001b[0;34m'after %s'\u001b[0m \u001b[0;34m%\u001b[0m \u001b[0mdate\u001b[0m\u001b[0;34m)\u001b[0m\u001b[0;34m,\u001b[0m\u001b[0;34m\u001b[0m\u001b[0;34m\u001b[0m\u001b[0m\n\u001b[1;32m    339\u001b[0m               instructions)\n\u001b[0;32m--> 340\u001b[0;31m       \u001b[0;32mreturn\u001b[0m \u001b[0mfunc\u001b[0m\u001b[0;34m(\u001b[0m\u001b[0;34m*\u001b[0m\u001b[0margs\u001b[0m\u001b[0;34m,\u001b[0m \u001b[0;34m**\u001b[0m\u001b[0mkwargs\u001b[0m\u001b[0;34m)\u001b[0m\u001b[0;34m\u001b[0m\u001b[0;34m\u001b[0m\u001b[0m\n\u001b[0m\u001b[1;32m    341\u001b[0m \u001b[0;34m\u001b[0m\u001b[0m\n\u001b[1;32m    342\u001b[0m     \u001b[0mdoc_controls\u001b[0m\u001b[0;34m.\u001b[0m\u001b[0mset_deprecated\u001b[0m\u001b[0;34m(\u001b[0m\u001b[0mnew_func\u001b[0m\u001b[0;34m)\u001b[0m\u001b[0;34m\u001b[0m\u001b[0;34m\u001b[0m\u001b[0m\n",
      "\u001b[0;32m~/miniforge3/envs/python38/lib/python3.8/site-packages/tensorflow/python/eager/profiler.py\u001b[0m in \u001b[0;36mstop\u001b[0;34m()\u001b[0m\n\u001b[1;32m    102\u001b[0m   \u001b[0;32mwith\u001b[0m \u001b[0m_profiler_lock\u001b[0m\u001b[0;34m:\u001b[0m\u001b[0;34m\u001b[0m\u001b[0;34m\u001b[0m\u001b[0m\n\u001b[1;32m    103\u001b[0m     \u001b[0;32mif\u001b[0m \u001b[0m_profiler\u001b[0m \u001b[0;32mis\u001b[0m \u001b[0;32mNone\u001b[0m\u001b[0;34m:\u001b[0m\u001b[0;34m\u001b[0m\u001b[0;34m\u001b[0m\u001b[0m\n\u001b[0;32m--> 104\u001b[0;31m       raise ProfilerNotRunningError(\n\u001b[0m\u001b[1;32m    105\u001b[0m           'Cannot stop profiling. No profiler is running.')\n\u001b[1;32m    106\u001b[0m     \u001b[0;32mif\u001b[0m \u001b[0mcontext\u001b[0m\u001b[0;34m.\u001b[0m\u001b[0mdefault_execution_mode\u001b[0m \u001b[0;34m==\u001b[0m \u001b[0mcontext\u001b[0m\u001b[0;34m.\u001b[0m\u001b[0mEAGER_MODE\u001b[0m\u001b[0;34m:\u001b[0m\u001b[0;34m\u001b[0m\u001b[0;34m\u001b[0m\u001b[0m\n",
      "\u001b[0;31mProfilerNotRunningError\u001b[0m: Cannot stop profiling. No profiler is running."
     ]
    }
   ],
   "source": [
    "# from https://www.tensorflow.org/tensorboard/graphs\n",
    "\n",
    "from datetime import datetime\n",
    "logdir = f\"logs/{datetime.now().strftime('%Y%m%d-%H%M%S')}\"\n",
    "writer = tf.summary.create_file_writer(logdir)\n",
    "\n",
    "# Bracket the function call with\n",
    "# tf.summary.trace_on() and tf.summary.trace_export().\n",
    "tf.summary.trace_on(graph=True, profiler=True)\n",
    "# Call only one tf.function when tracing.\n",
    "L = tf.function(forward_NN)(inp)\n",
    "with writer.as_default():\n",
    "    tf.summary.trace_export(\n",
    "          name=\"my_func_trace\",\n",
    "          step=0,\n",
    "          profiler_outdir=logdir\n",
    "    )"
   ]
  },
  {
   "cell_type": "markdown",
   "metadata": {},
   "source": [
    "If you run this notebook remotely at CIP you need to forward the port for the tensorboard process (6006), e.g. via (in a terminal on your local machine)\n",
    "```\n",
    "ssh -L 6006:localhost:6006 <your-username>@<your-cip-host>\n",
    "```"
   ]
  },
  {
   "cell_type": "code",
   "execution_count": null,
   "metadata": {},
   "outputs": [],
   "source": [
    "!hostname"
   ]
  },
  {
   "cell_type": "code",
   "execution_count": null,
   "metadata": {},
   "outputs": [],
   "source": [
    "%tensorboard --logdir $logdir"
   ]
  },
  {
   "cell_type": "code",
   "execution_count": null,
   "metadata": {},
   "outputs": [],
   "source": [
    "# kill the tensorboard process\n",
    "!sleep 3\n",
    "!killall tensorboard"
   ]
  },
  {
   "cell_type": "markdown",
   "metadata": {},
   "source": [
    "## Compare to NNFromScratch\n",
    "\n",
    "Let's see if we can reproduce that with the formulas we used in [NNFromScratchNumpy.ipynb](NNFromScratchNumpy.ipynb)\n",
    "\n",
    "Here a copy paste of the relevant functions:"
   ]
  },
  {
   "cell_type": "code",
   "execution_count": 32,
   "metadata": {},
   "outputs": [],
   "source": [
    "def sigmoid(Z):\n",
    "    return 1/(1+np.exp(-Z))\n",
    "\n",
    "def relu(Z):\n",
    "    return np.maximum(0,Z)\n",
    "\n",
    "def sigmoid_derivative(Z):\n",
    "    sig = sigmoid(Z)\n",
    "    return sig * (1 - sig)\n",
    "\n",
    "def relu_derivative(Z):\n",
    "    dZ = (Z >= 0)\n",
    "    return dZ"
   ]
  },
  {
   "cell_type": "code",
   "execution_count": 33,
   "metadata": {},
   "outputs": [],
   "source": [
    "def single_layer_forward_propagation(A_prev, W_curr, b_curr, activation=\"relu\"):\n",
    "    Z_curr = np.matmul(W_curr, A_prev) + b_curr\n",
    "    \n",
    "    if activation == \"relu\":\n",
    "        activation_func = relu\n",
    "    elif activation == \"sigmoid\":\n",
    "        activation_func = sigmoid\n",
    "    else:\n",
    "        raise Exception('Non-supported activation function')\n",
    "        \n",
    "    return activation_func(Z_curr), Z_curr"
   ]
  },
  {
   "cell_type": "code",
   "execution_count": 34,
   "metadata": {},
   "outputs": [],
   "source": [
    "def single_layer_backward_propagation(dA_curr, W_curr, b_curr, Z_curr, A_prev, activation=\"relu\"):\n",
    "    \n",
    "    if activation == \"relu\":\n",
    "        derivative_activation_func = relu_derivative\n",
    "    elif activation == \"sigmoid\":\n",
    "        derivative_activation_func = sigmoid_derivative\n",
    "    else:\n",
    "        raise Exception('Non-supported activation function')\n",
    "            \n",
    "    dZ_curr = dA_curr * derivative_activation_func(Z_curr)\n",
    "    dW_curr = np.matmul(\n",
    "        dZ_curr,\n",
    "        # need to transpose only the last 2 dimensions, \n",
    "        # since the first dimension is the training example index\n",
    "        np.transpose(A_prev, (0, 2, 1))\n",
    "    )\n",
    "    db_curr = dZ_curr\n",
    "    dA_prev = np.matmul(W_curr.T, dZ_curr)\n",
    "\n",
    "    return dA_prev, dW_curr, db_curr"
   ]
  },
  {
   "cell_type": "code",
   "execution_count": 35,
   "metadata": {},
   "outputs": [],
   "source": [
    "def get_loss_value(Y_hat, Y):\n",
    "    return - np.mean(Y * np.log(Y_hat) + (1 - Y) * np.log(1 - Y_hat))"
   ]
  },
  {
   "cell_type": "code",
   "execution_count": 36,
   "metadata": {},
   "outputs": [],
   "source": [
    "def get_loss_derivative(Y_hat, Y):\n",
    "    return - (np.divide(Y, Y_hat) - np.divide(1 - Y, 1 - Y_hat));"
   ]
  },
  {
   "cell_type": "markdown",
   "metadata": {},
   "source": [
    "First let's calculate the forward pass.\n",
    "\n",
    "First, lets store the initialized values of the NN parameters, inputs and labels in python variables"
   ]
  },
  {
   "cell_type": "code",
   "execution_count": 37,
   "metadata": {},
   "outputs": [],
   "source": [
    "inp_val, W_val, b_val, W2_val, b2_val, y_val = inp.numpy(), W.numpy(), b.numpy(), W2.numpy(), b2.numpy(), y.numpy()"
   ]
  },
  {
   "cell_type": "markdown",
   "metadata": {},
   "source": [
    "And then run our manual `numpy` forward propagation"
   ]
  },
  {
   "cell_type": "code",
   "execution_count": 38,
   "metadata": {},
   "outputs": [
    {
     "name": "stdout",
     "output_type": "stream",
     "text": [
      "[0.         0.         0.         0.         0.         0.08790688\n",
      " 0.83881986 0.61094296 1.5522951  0.         0.         0.\n",
      " 1.1019574  0.         0.         1.5113796 ]\n",
      "[-0.7651246  -1.6148978  -1.3296591  -0.67803717 -0.19587226  0.08790688\n",
      "  0.83881986  0.61094296  1.5522951  -0.33961967 -1.8829783  -1.1222038\n",
      "  1.1019574  -0.65588206 -0.82642865  1.5113796 ]\n"
     ]
    }
   ],
   "source": [
    "a_val, z_val = single_layer_forward_propagation(inp_val, W_val, b_val)\n",
    "print(a_val[0].ravel())\n",
    "print(z_val[0].ravel())"
   ]
  },
  {
   "cell_type": "markdown",
   "metadata": {},
   "source": [
    "compared to what `tf` gave us"
   ]
  },
  {
   "cell_type": "code",
   "execution_count": 39,
   "metadata": {},
   "outputs": [
    {
     "name": "stdout",
     "output_type": "stream",
     "text": [
      "[0.         0.         0.         0.         0.         0.08790687\n",
      " 0.8388198  0.61094296 1.5522951  0.         0.         0.\n",
      " 1.1019573  0.         0.         1.5113796 ]\n",
      "[-0.7651246  -1.6148978  -1.3296591  -0.67803717 -0.19587228  0.08790687\n",
      "  0.8388198   0.61094296  1.5522951  -0.33961964 -1.8829783  -1.1222038\n",
      "  1.1019573  -0.65588206 -0.82642865  1.5113796 ]\n"
     ]
    }
   ],
   "source": [
    "print(a[0].numpy().ravel())\n",
    "print(z[0].numpy().ravel())"
   ]
  },
  {
   "cell_type": "markdown",
   "metadata": {},
   "source": [
    "Next layer:"
   ]
  },
  {
   "cell_type": "code",
   "execution_count": 40,
   "metadata": {},
   "outputs": [
    {
     "name": "stdout",
     "output_type": "stream",
     "text": [
      "[0.24505062 0.9999771  0.95858556 0.2614302  0.97511286 0.99650586\n",
      " 0.28270757 0.9976382  0.21347062 0.9985936 ]\n",
      "[-1.125186  10.683872   3.1418276 -1.0385482  3.6682014  5.6531496\n",
      " -0.9310706  6.04597   -1.3041309  6.5653496]\n"
     ]
    }
   ],
   "source": [
    "a2_val, z2_val = single_layer_forward_propagation(\n",
    "    a_val, W2_val, b2_val, activation=\"sigmoid\"\n",
    ")\n",
    "print(a2_val.ravel())\n",
    "print(z2_val.ravel())"
   ]
  },
  {
   "cell_type": "markdown",
   "metadata": {},
   "source": [
    "For `tf`, we don't have `a2` because we used a definition of the loss function where the sigmoid activation is already included. But we have `z2`:"
   ]
  },
  {
   "cell_type": "code",
   "execution_count": 41,
   "metadata": {},
   "outputs": [
    {
     "data": {
      "text/plain": [
       "array([-1.125186 , 10.683871 ,  3.1418276, -1.0385481,  3.6682014,\n",
       "        5.65315  , -0.9310705,  6.04597  , -1.304131 ,  6.5653496],\n",
       "      dtype=float32)"
      ]
     },
     "execution_count": 41,
     "metadata": {},
     "output_type": "execute_result"
    }
   ],
   "source": [
    "z2.numpy().ravel()"
   ]
  },
  {
   "cell_type": "markdown",
   "metadata": {},
   "source": [
    "Great, we implemented the forward pass correctly, so now lets do the backward pass and check if we get the same gradients like Tensorflow"
   ]
  },
  {
   "cell_type": "code",
   "execution_count": 42,
   "metadata": {},
   "outputs": [
    {
     "data": {
      "text/plain": [
       "array([ -4.0807896,  -1.0000229,  -1.0432037,  -3.8251128,  40.18139  ,\n",
       "       286.19318  ,   1.3941315, 423.41046  ,  -4.6844854, 711.0496   ],\n",
       "      dtype=float32)"
      ]
     },
     "execution_count": 42,
     "metadata": {},
     "output_type": "execute_result"
    }
   ],
   "source": [
    "dL = get_loss_derivative(a2_val, y_val)\n",
    "dL.ravel()"
   ]
  },
  {
   "cell_type": "markdown",
   "metadata": {},
   "source": [
    "Propagate back into the output layer"
   ]
  },
  {
   "cell_type": "code",
   "execution_count": 43,
   "metadata": {},
   "outputs": [
    {
     "name": "stdout",
     "output_type": "stream",
     "text": [
      "[ 2.668188    5.1042194   4.5175776   3.4165483   2.036829   -0.54671127\n",
      "  0.604475   -0.6363945  -1.665493    1.5830557   7.5722485   2.6969914\n",
      " -2.642017    3.1839168   2.4614296  -3.0987957 ]\n",
      "[1.9290721]\n"
     ]
    }
   ],
   "source": [
    "da, dW2, db2 = single_layer_backward_propagation(\n",
    "    dL, W2_val, b2_val, z2_val, a_val, activation=\"sigmoid\"\n",
    ")\n",
    "print(np.sum(dW2, axis=0).ravel())\n",
    "print(np.sum(db2, axis=0).ravel())"
   ]
  },
  {
   "cell_type": "code",
   "execution_count": 44,
   "metadata": {},
   "outputs": [
    {
     "name": "stdout",
     "output_type": "stream",
     "text": [
      "[ 2.6681876   5.1042194   4.517577    3.416548    2.0368288  -0.5467112\n",
      "  0.6044749  -0.63639444 -1.665493    1.5830556   7.572248    2.6969914\n",
      " -2.6420166   3.1839166   2.461429   -3.0987954 ]\n",
      "[1.9290721]\n"
     ]
    }
   ],
   "source": [
    "print(grad_NN[\"W2\"].numpy().ravel())\n",
    "print(grad_NN[\"b2\"].numpy().ravel())"
   ]
  },
  {
   "cell_type": "markdown",
   "metadata": {},
   "source": [
    "And from there into the hidden layer"
   ]
  },
  {
   "cell_type": "code",
   "execution_count": 45,
   "metadata": {},
   "outputs": [
    {
     "name": "stdout",
     "output_type": "stream",
     "text": [
      "[[-2.9683099e+00 -1.6218352e-01]\n",
      " [-5.3664279e-01 -1.3827974e-01]\n",
      " [ 1.8278394e+00  9.9870086e-02]\n",
      " [-4.7472124e+00  9.7532749e-02]\n",
      " [ 1.2063855e+00 -2.4785519e-02]\n",
      " [ 1.5084713e+00  1.6048351e-01]\n",
      " [ 1.4265637e+00 -5.1899230e-01]\n",
      " [ 1.5962720e+00 -5.9727681e-01]\n",
      " [-1.9537684e+00  7.3104107e-01]\n",
      " [-2.6492796e+00 -1.4475226e-01]\n",
      " [-1.0448407e+00 -5.7088368e-02]\n",
      " [ 1.7024930e+00  3.2589346e-01]\n",
      " [ 7.4403122e-02 -2.0365315e-03]\n",
      " [-1.3069871e+01  2.6852417e-01]\n",
      " [-5.1324320e+00 -1.3224509e+00]\n",
      " [ 1.5933753e+00 -4.3613195e-02]]\n",
      "[ 3.173869    0.45831457 -1.9544194   5.808291   -1.476032    1.6568525\n",
      "  0.28430146  0.84392875 -1.0329325   2.832746    1.1171973  -0.9878824\n",
      "  0.08059347 15.991199    4.383303    1.7259445 ]\n"
     ]
    }
   ],
   "source": [
    "dinp, dW, db = single_layer_backward_propagation(\n",
    "    da, W_val, b_val, z_val, inp_val, activation=\"relu\"\n",
    ")\n",
    "print(np.sum(dW, axis=0))\n",
    "print(np.sum(db, axis=0).ravel())"
   ]
  },
  {
   "cell_type": "code",
   "execution_count": 46,
   "metadata": {},
   "outputs": [
    {
     "name": "stdout",
     "output_type": "stream",
     "text": [
      "[[-2.9683094e+00 -1.6218358e-01]\n",
      " [-5.3664279e-01 -1.3827974e-01]\n",
      " [ 1.8278391e+00  9.9870101e-02]\n",
      " [-4.7472119e+00  9.7532749e-02]\n",
      " [ 1.2063854e+00 -2.4785489e-02]\n",
      " [ 1.5084713e+00  1.6048351e-01]\n",
      " [ 1.4265635e+00 -5.1899230e-01]\n",
      " [ 1.5962719e+00 -5.9727681e-01]\n",
      " [-1.9537683e+00  7.3104107e-01]\n",
      " [-2.6492796e+00 -1.4475229e-01]\n",
      " [-1.0448406e+00 -5.7088375e-02]\n",
      " [ 1.7024928e+00  3.2589343e-01]\n",
      " [ 7.4403115e-02 -2.0365329e-03]\n",
      " [-1.3069870e+01  2.6852417e-01]\n",
      " [-5.1324315e+00 -1.3224509e+00]\n",
      " [ 1.5933753e+00 -4.3613225e-02]]\n",
      "[ 3.173869    0.4583145  -1.9544193   5.8082905  -1.476032    1.6568524\n",
      "  0.28430143  0.8439286  -1.0329325   2.8327456   1.117197   -0.98788226\n",
      "  0.08059345 15.991198    4.383303    1.7259443 ]\n"
     ]
    }
   ],
   "source": [
    "print(grad_NN[\"W\"].numpy())\n",
    "print(grad_NN[\"b\"].numpy().ravel())"
   ]
  },
  {
   "cell_type": "markdown",
   "metadata": {},
   "source": [
    "Great! Tensorflow does the same thing we attempted to do before."
   ]
  }
 ],
 "metadata": {
  "kernelspec": {
   "display_name": "python38",
   "language": "python",
   "name": "python38"
  },
  "language_info": {
   "codemirror_mode": {
    "name": "ipython",
    "version": 3
   },
   "file_extension": ".py",
   "mimetype": "text/x-python",
   "name": "python",
   "nbconvert_exporter": "python",
   "pygments_lexer": "ipython3",
   "version": "3.8.8"
  },
  "toc": {
   "base_numbering": 1,
   "nav_menu": {},
   "number_sections": true,
   "sideBar": true,
   "skip_h1_title": false,
   "title_cell": "Table of Contents",
   "title_sidebar": "Contents",
   "toc_cell": false,
   "toc_position": {},
   "toc_section_display": true,
   "toc_window_display": false
  }
 },
 "nbformat": 4,
 "nbformat_minor": 4
}
