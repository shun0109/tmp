{
  "nbformat": 4,
  "nbformat_minor": 0,
  "metadata": {
    "colab": {
      "provenance": [],
      "mount_file_id": "1uJVnbyIMLsRfhHDe0r4ccdAmWWD737i_",
      "authorship_tag": "ABX9TyOmI3jdkWLBDrnloXDyvfWk",
      "include_colab_link": true
    },
    "kernelspec": {
      "name": "python3",
      "display_name": "Python 3"
    },
    "language_info": {
      "name": "python"
    }
  },
  "cells": [
    {
      "cell_type": "markdown",
      "metadata": {
        "id": "view-in-github",
        "colab_type": "text"
      },
      "source": [
        "<a href=\"https://colab.research.google.com/github/shun0109/tmp/blob/main/mnist_classification.ipynb\" target=\"_parent\"><img src=\"https://colab.research.google.com/assets/colab-badge.svg\" alt=\"Open In Colab\"/></a>"
      ]
    },
    {
      "cell_type": "code",
      "execution_count": 1,
      "metadata": {
        "id": "BmzIjTnajaNU"
      },
      "outputs": [],
      "source": [
        "# Install seaborn if not already\n",
        "!pip install seaborn --quiet\n",
        "\n",
        "import pandas as pd\n",
        "import numpy as np\n",
        "from scipy import stats, integrate\n",
        "import seaborn as sns\n",
        "import matplotlib.pyplot as plt\n",
        "from sklearn.model_selection import train_test_split,cross_val_score\n",
        "from sklearn.linear_model import LogisticRegression, LinearRegression,Ridge\n",
        "from sklearn.metrics import accuracy_score, confusion_matrix, classification_report,mean_squared_error\n",
        "from collections import Counter\n",
        "from IPython.core.display import display, HTML\n",
        "from sklearn.datasets import load_iris, load_wine, fetch_openml\n",
        "%matplotlib inline"
      ]
    },
    {
      "cell_type": "code",
      "source": [
        "from pathlib import Path\n",
        "\n",
        "IMAGES_PATH=Path() / 'images' / 'classification'\n",
        "IMAGES_PATH.mkdir(parents=True,exist_ok=True)\n",
        "\n",
        "def save_fig(fig_id, tight_layout=True, fig_extension=\"png\", resolution=300):\n",
        "    path = IMAGES_PATH / f\"{fig_id}.{fig_extension}\"\n",
        "    if tight_layout:\n",
        "        plt.tight_layout()\n",
        "    plt.savefig(path, format=fig_extension, dpi=resolution)"
      ],
      "metadata": {
        "id": "9M4Fh8pCRJSn"
      },
      "execution_count": 3,
      "outputs": []
    },
    {
      "cell_type": "code",
      "source": [
        "mnist=fetch_openml('mnist_784', as_frame=False)"
      ],
      "metadata": {
        "id": "sy1ebGQXReLU"
      },
      "execution_count": 6,
      "outputs": []
    },
    {
      "cell_type": "code",
      "source": [],
      "metadata": {
        "id": "GZ-bWf00RsdY"
      },
      "execution_count": null,
      "outputs": []
    }
  ]
}